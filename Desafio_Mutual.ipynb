{
  "nbformat": 4,
  "nbformat_minor": 0,
  "metadata": {
    "colab": {
      "name": "Desafio Mutual.ipynb",
      "provenance": [],
      "collapsed_sections": [],
      "authorship_tag": "ABX9TyNNi8bTSu7hw7LzuBFZstWd"
    },
    "kernelspec": {
      "name": "python3",
      "display_name": "Python 3"
    },
    "language_info": {
      "name": "python"
    }
  },
  "cells": [
    {
      "cell_type": "markdown",
      "metadata": {
        "id": "vkw3cBobkDGI"
      },
      "source": [
        "# Resumo do que foi feito\n",
        "Neste case foi solicitado a criação de um novo modelo de *Credit Scoring* e poder classificar se um cliente é inadimplente ou não inadimplente. A partir disso, fiz todos os processos solicitados no e-mail:\n",
        "1. Tratamento e Limpeza de Dados\n",
        "2. Manipulação de Dados\n",
        "3. Análise Exploratória\n",
        "4. Feature Engineering\n",
        "5. Construção de modelos de Machine Learning\n",
        "6. Avaliação de Resultados do Modelo\n",
        "\n",
        "O modelo criado por mim teve algumas caracteristicas de identificação como: \n",
        "* Personal Net Income inferior a R$ 1.500\n",
        "* Idade inferior a 71 anos\n",
        "* Tempo de residência inferior a 546 meses\n",
        "\n",
        "Cheguei a essas conclusões devido ao ao processo de Análise exploratória, Manipulação dos dados e limpeza.\n",
        "Ao final, obttive apenas 10 fetures e pouco mais de 36.000 linhas, em comparação com a base de dados original que continha: 29 features e 40.000 linhas.\n",
        "\n",
        "Os modelo que interpretei como o melhor foi o Xgboost, após realizar o balanceamento da base de dados. Onde obtive uma precisão melhor e uma revocação maior também."
      ]
    },
    {
      "cell_type": "code",
      "metadata": {
        "id": "PxP3efszhen4"
      },
      "source": [
        "import pandas as pd\n",
        "import seaborn as sns\n",
        "import matplotlib.pyplot as plt\n",
        "import numpy as np"
      ],
      "execution_count": null,
      "outputs": []
    },
    {
      "cell_type": "code",
      "metadata": {
        "id": "Nid-oXESnjHN"
      },
      "source": [
        "dados = pd.read_csv(\"MutualClients.csv\", index_col=False)"
      ],
      "execution_count": null,
      "outputs": []
    },
    {
      "cell_type": "markdown",
      "metadata": {
        "id": "QhG9gktXoj7p"
      },
      "source": [
        "Visualizando os dados"
      ]
    },
    {
      "cell_type": "code",
      "metadata": {
        "colab": {
          "base_uri": "https://localhost:8080/",
          "height": 392
        },
        "id": "5PuY-5X8nvfQ",
        "outputId": "19847909-b841-449b-ce4a-dbec5769745d"
      },
      "source": [
        "dados.head(10)"
      ],
      "execution_count": null,
      "outputs": [
        {
          "output_type": "execute_result",
          "data": {
            "text/html": [
              "<div>\n",
              "<style scoped>\n",
              "    .dataframe tbody tr th:only-of-type {\n",
              "        vertical-align: middle;\n",
              "    }\n",
              "\n",
              "    .dataframe tbody tr th {\n",
              "        vertical-align: top;\n",
              "    }\n",
              "\n",
              "    .dataframe thead th {\n",
              "        text-align: right;\n",
              "    }\n",
              "</style>\n",
              "<table border=\"1\" class=\"dataframe\">\n",
              "  <thead>\n",
              "    <tr style=\"text-align: right;\">\n",
              "      <th></th>\n",
              "      <th>Unnamed: 0</th>\n",
              "      <th>clientId</th>\n",
              "      <th>shopId</th>\n",
              "      <th>gender</th>\n",
              "      <th>maritalStatus</th>\n",
              "      <th>age</th>\n",
              "      <th>numberOfDependents</th>\n",
              "      <th>education</th>\n",
              "      <th>flagResidencialPhone</th>\n",
              "      <th>areaCodeResidencialPhone</th>\n",
              "      <th>bestPaymentDay</th>\n",
              "      <th>shopRank</th>\n",
              "      <th>residenceType</th>\n",
              "      <th>monthsInResidence</th>\n",
              "      <th>flagMothersName</th>\n",
              "      <th>flagFathersName</th>\n",
              "      <th>flagResidenceTown_WorkingTown</th>\n",
              "      <th>flagResidenceState_WorkingState</th>\n",
              "      <th>monthsInTheJob</th>\n",
              "      <th>professionCode</th>\n",
              "      <th>mateIncome</th>\n",
              "      <th>flagResidencialAddress_PostalAddress</th>\n",
              "      <th>flagOtherCard</th>\n",
              "      <th>quantityBankingAccounts</th>\n",
              "      <th>flagMobilePhone</th>\n",
              "      <th>flagContactPhone</th>\n",
              "      <th>personalNetIncome</th>\n",
              "      <th>codeApplicationBooth</th>\n",
              "      <th>BAD</th>\n",
              "    </tr>\n",
              "  </thead>\n",
              "  <tbody>\n",
              "    <tr>\n",
              "      <th>0</th>\n",
              "      <td>1</td>\n",
              "      <td>2</td>\n",
              "      <td>15</td>\n",
              "      <td>F</td>\n",
              "      <td>S</td>\n",
              "      <td>18</td>\n",
              "      <td>0</td>\n",
              "      <td>NaN</td>\n",
              "      <td>Y</td>\n",
              "      <td>31</td>\n",
              "      <td>20</td>\n",
              "      <td>0</td>\n",
              "      <td>P</td>\n",
              "      <td>216</td>\n",
              "      <td>Y</td>\n",
              "      <td>Y</td>\n",
              "      <td>Y</td>\n",
              "      <td>Y</td>\n",
              "      <td>12</td>\n",
              "      <td>853</td>\n",
              "      <td>0.0</td>\n",
              "      <td>Y</td>\n",
              "      <td>N</td>\n",
              "      <td>0</td>\n",
              "      <td>N</td>\n",
              "      <td>N</td>\n",
              "      <td>300.0</td>\n",
              "      <td>0</td>\n",
              "      <td>0</td>\n",
              "    </tr>\n",
              "    <tr>\n",
              "      <th>1</th>\n",
              "      <td>2</td>\n",
              "      <td>4</td>\n",
              "      <td>12</td>\n",
              "      <td>F</td>\n",
              "      <td>C</td>\n",
              "      <td>47</td>\n",
              "      <td>0</td>\n",
              "      <td>NaN</td>\n",
              "      <td>N</td>\n",
              "      <td>31</td>\n",
              "      <td>25</td>\n",
              "      <td>0</td>\n",
              "      <td>P</td>\n",
              "      <td>180</td>\n",
              "      <td>Y</td>\n",
              "      <td>Y</td>\n",
              "      <td>N</td>\n",
              "      <td>Y</td>\n",
              "      <td>24</td>\n",
              "      <td>35</td>\n",
              "      <td>0.0</td>\n",
              "      <td>Y</td>\n",
              "      <td>N</td>\n",
              "      <td>0</td>\n",
              "      <td>N</td>\n",
              "      <td>N</td>\n",
              "      <td>304.0</td>\n",
              "      <td>0</td>\n",
              "      <td>0</td>\n",
              "    </tr>\n",
              "    <tr>\n",
              "      <th>2</th>\n",
              "      <td>3</td>\n",
              "      <td>5</td>\n",
              "      <td>16</td>\n",
              "      <td>F</td>\n",
              "      <td>S</td>\n",
              "      <td>28</td>\n",
              "      <td>0</td>\n",
              "      <td>NaN</td>\n",
              "      <td>Y</td>\n",
              "      <td>31</td>\n",
              "      <td>25</td>\n",
              "      <td>0</td>\n",
              "      <td>O</td>\n",
              "      <td>12</td>\n",
              "      <td>Y</td>\n",
              "      <td>Y</td>\n",
              "      <td>Y</td>\n",
              "      <td>Y</td>\n",
              "      <td>12</td>\n",
              "      <td>24</td>\n",
              "      <td>0.0</td>\n",
              "      <td>Y</td>\n",
              "      <td>N</td>\n",
              "      <td>0</td>\n",
              "      <td>N</td>\n",
              "      <td>N</td>\n",
              "      <td>250.0</td>\n",
              "      <td>0</td>\n",
              "      <td>0</td>\n",
              "    </tr>\n",
              "    <tr>\n",
              "      <th>3</th>\n",
              "      <td>4</td>\n",
              "      <td>6</td>\n",
              "      <td>24</td>\n",
              "      <td>M</td>\n",
              "      <td>S</td>\n",
              "      <td>26</td>\n",
              "      <td>0</td>\n",
              "      <td>NaN</td>\n",
              "      <td>N</td>\n",
              "      <td>31</td>\n",
              "      <td>28</td>\n",
              "      <td>0</td>\n",
              "      <td>P</td>\n",
              "      <td>180</td>\n",
              "      <td>Y</td>\n",
              "      <td>Y</td>\n",
              "      <td>N</td>\n",
              "      <td>Y</td>\n",
              "      <td>0</td>\n",
              "      <td>999</td>\n",
              "      <td>0.0</td>\n",
              "      <td>Y</td>\n",
              "      <td>N</td>\n",
              "      <td>0</td>\n",
              "      <td>N</td>\n",
              "      <td>N</td>\n",
              "      <td>800.0</td>\n",
              "      <td>0</td>\n",
              "      <td>0</td>\n",
              "    </tr>\n",
              "    <tr>\n",
              "      <th>4</th>\n",
              "      <td>5</td>\n",
              "      <td>7</td>\n",
              "      <td>55</td>\n",
              "      <td>F</td>\n",
              "      <td>S</td>\n",
              "      <td>22</td>\n",
              "      <td>0</td>\n",
              "      <td>NaN</td>\n",
              "      <td>Y</td>\n",
              "      <td>31</td>\n",
              "      <td>12</td>\n",
              "      <td>0</td>\n",
              "      <td>A</td>\n",
              "      <td>0</td>\n",
              "      <td>Y</td>\n",
              "      <td>Y</td>\n",
              "      <td>Y</td>\n",
              "      <td>Y</td>\n",
              "      <td>48</td>\n",
              "      <td>999</td>\n",
              "      <td>0.0</td>\n",
              "      <td>Y</td>\n",
              "      <td>N</td>\n",
              "      <td>0</td>\n",
              "      <td>N</td>\n",
              "      <td>N</td>\n",
              "      <td>410.0</td>\n",
              "      <td>0</td>\n",
              "      <td>0</td>\n",
              "    </tr>\n",
              "    <tr>\n",
              "      <th>5</th>\n",
              "      <td>6</td>\n",
              "      <td>8</td>\n",
              "      <td>6</td>\n",
              "      <td>F</td>\n",
              "      <td>C</td>\n",
              "      <td>21</td>\n",
              "      <td>0</td>\n",
              "      <td>NaN</td>\n",
              "      <td>Y</td>\n",
              "      <td>23</td>\n",
              "      <td>28</td>\n",
              "      <td>0</td>\n",
              "      <td>A</td>\n",
              "      <td>24</td>\n",
              "      <td>Y</td>\n",
              "      <td>Y</td>\n",
              "      <td>Y</td>\n",
              "      <td>Y</td>\n",
              "      <td>12</td>\n",
              "      <td>40</td>\n",
              "      <td>800.0</td>\n",
              "      <td>Y</td>\n",
              "      <td>N</td>\n",
              "      <td>0</td>\n",
              "      <td>N</td>\n",
              "      <td>N</td>\n",
              "      <td>248.0</td>\n",
              "      <td>0</td>\n",
              "      <td>0</td>\n",
              "    </tr>\n",
              "    <tr>\n",
              "      <th>6</th>\n",
              "      <td>7</td>\n",
              "      <td>9</td>\n",
              "      <td>3</td>\n",
              "      <td>F</td>\n",
              "      <td>S</td>\n",
              "      <td>27</td>\n",
              "      <td>0</td>\n",
              "      <td>NaN</td>\n",
              "      <td>Y</td>\n",
              "      <td>31</td>\n",
              "      <td>20</td>\n",
              "      <td>0</td>\n",
              "      <td>A</td>\n",
              "      <td>0</td>\n",
              "      <td>Y</td>\n",
              "      <td>Y</td>\n",
              "      <td>Y</td>\n",
              "      <td>Y</td>\n",
              "      <td>0</td>\n",
              "      <td>950</td>\n",
              "      <td>0.0</td>\n",
              "      <td>Y</td>\n",
              "      <td>N</td>\n",
              "      <td>0</td>\n",
              "      <td>N</td>\n",
              "      <td>N</td>\n",
              "      <td>1000.0</td>\n",
              "      <td>0</td>\n",
              "      <td>1</td>\n",
              "    </tr>\n",
              "    <tr>\n",
              "      <th>7</th>\n",
              "      <td>8</td>\n",
              "      <td>10</td>\n",
              "      <td>23</td>\n",
              "      <td>F</td>\n",
              "      <td>C</td>\n",
              "      <td>57</td>\n",
              "      <td>0</td>\n",
              "      <td>NaN</td>\n",
              "      <td>Y</td>\n",
              "      <td>31</td>\n",
              "      <td>12</td>\n",
              "      <td>0</td>\n",
              "      <td>P</td>\n",
              "      <td>24</td>\n",
              "      <td>Y</td>\n",
              "      <td>Y</td>\n",
              "      <td>N</td>\n",
              "      <td>Y</td>\n",
              "      <td>96</td>\n",
              "      <td>13</td>\n",
              "      <td>0.0</td>\n",
              "      <td>Y</td>\n",
              "      <td>N</td>\n",
              "      <td>0</td>\n",
              "      <td>N</td>\n",
              "      <td>N</td>\n",
              "      <td>856.0</td>\n",
              "      <td>0</td>\n",
              "      <td>0</td>\n",
              "    </tr>\n",
              "    <tr>\n",
              "      <th>8</th>\n",
              "      <td>9</td>\n",
              "      <td>11</td>\n",
              "      <td>25</td>\n",
              "      <td>F</td>\n",
              "      <td>S</td>\n",
              "      <td>53</td>\n",
              "      <td>0</td>\n",
              "      <td>NaN</td>\n",
              "      <td>Y</td>\n",
              "      <td>31</td>\n",
              "      <td>18</td>\n",
              "      <td>0</td>\n",
              "      <td>P</td>\n",
              "      <td>60</td>\n",
              "      <td>Y</td>\n",
              "      <td>Y</td>\n",
              "      <td>N</td>\n",
              "      <td>Y</td>\n",
              "      <td>24</td>\n",
              "      <td>13</td>\n",
              "      <td>0.0</td>\n",
              "      <td>Y</td>\n",
              "      <td>N</td>\n",
              "      <td>0</td>\n",
              "      <td>N</td>\n",
              "      <td>N</td>\n",
              "      <td>738.0</td>\n",
              "      <td>0</td>\n",
              "      <td>1</td>\n",
              "    </tr>\n",
              "    <tr>\n",
              "      <th>9</th>\n",
              "      <td>10</td>\n",
              "      <td>12</td>\n",
              "      <td>12</td>\n",
              "      <td>F</td>\n",
              "      <td>C</td>\n",
              "      <td>32</td>\n",
              "      <td>0</td>\n",
              "      <td>NaN</td>\n",
              "      <td>Y</td>\n",
              "      <td>31</td>\n",
              "      <td>12</td>\n",
              "      <td>0</td>\n",
              "      <td>P</td>\n",
              "      <td>24</td>\n",
              "      <td>Y</td>\n",
              "      <td>Y</td>\n",
              "      <td>N</td>\n",
              "      <td>Y</td>\n",
              "      <td>0</td>\n",
              "      <td>165</td>\n",
              "      <td>0.0</td>\n",
              "      <td>Y</td>\n",
              "      <td>N</td>\n",
              "      <td>0</td>\n",
              "      <td>N</td>\n",
              "      <td>N</td>\n",
              "      <td>700.0</td>\n",
              "      <td>0</td>\n",
              "      <td>0</td>\n",
              "    </tr>\n",
              "  </tbody>\n",
              "</table>\n",
              "</div>"
            ],
            "text/plain": [
              "   Unnamed: 0  clientId  shopId  ... personalNetIncome codeApplicationBooth  BAD\n",
              "0           1         2      15  ...             300.0                    0    0\n",
              "1           2         4      12  ...             304.0                    0    0\n",
              "2           3         5      16  ...             250.0                    0    0\n",
              "3           4         6      24  ...             800.0                    0    0\n",
              "4           5         7      55  ...             410.0                    0    0\n",
              "5           6         8       6  ...             248.0                    0    0\n",
              "6           7         9       3  ...            1000.0                    0    1\n",
              "7           8        10      23  ...             856.0                    0    0\n",
              "8           9        11      25  ...             738.0                    0    1\n",
              "9          10        12      12  ...             700.0                    0    0\n",
              "\n",
              "[10 rows x 29 columns]"
            ]
          },
          "metadata": {},
          "execution_count": 3
        }
      ]
    },
    {
      "cell_type": "markdown",
      "metadata": {
        "id": "Mb4fsuX15hlc"
      },
      "source": [
        "Verificando se há valores vazios."
      ]
    },
    {
      "cell_type": "code",
      "metadata": {
        "colab": {
          "base_uri": "https://localhost:8080/"
        },
        "id": "mdfTgg2v5W-i",
        "outputId": "444a3290-65cd-4611-dc76-e86020682a12"
      },
      "source": [
        "dados.isnull().sum()"
      ],
      "execution_count": null,
      "outputs": [
        {
          "output_type": "execute_result",
          "data": {
            "text/plain": [
              "Unnamed: 0                                  0\n",
              "clientId                                    0\n",
              "shopId                                      0\n",
              "gender                                      3\n",
              "maritalStatus                               0\n",
              "age                                         0\n",
              "numberOfDependents                          0\n",
              "education                               40000\n",
              "flagResidencialPhone                        0\n",
              "areaCodeResidencialPhone                    0\n",
              "bestPaymentDay                              0\n",
              "shopRank                                    0\n",
              "residenceType                               0\n",
              "monthsInResidence                           0\n",
              "flagMothersName                             0\n",
              "flagFathersName                             0\n",
              "flagResidenceTown_WorkingTown               0\n",
              "flagResidenceState_WorkingState             0\n",
              "monthsInTheJob                              0\n",
              "professionCode                              0\n",
              "mateIncome                                  0\n",
              "flagResidencialAddress_PostalAddress        0\n",
              "flagOtherCard                               0\n",
              "quantityBankingAccounts                     0\n",
              "flagMobilePhone                             0\n",
              "flagContactPhone                            0\n",
              "personalNetIncome                           0\n",
              "codeApplicationBooth                        0\n",
              "BAD                                         0\n",
              "dtype: int64"
            ]
          },
          "metadata": {},
          "execution_count": 4
        }
      ]
    },
    {
      "cell_type": "markdown",
      "metadata": {
        "id": "pPiGKpHNAWbT"
      },
      "source": [
        "Verificando a existência de dados duplicados"
      ]
    },
    {
      "cell_type": "code",
      "metadata": {
        "colab": {
          "base_uri": "https://localhost:8080/"
        },
        "id": "E-gSoGnjDlhJ",
        "outputId": "d9dd7e3f-581d-4be2-d383-614f81e8bc17"
      },
      "source": [
        "dados.duplicated().sum() #Não há dados duplicados na base de dados"
      ],
      "execution_count": null,
      "outputs": [
        {
          "output_type": "execute_result",
          "data": {
            "text/plain": [
              "0"
            ]
          },
          "metadata": {},
          "execution_count": 5
        }
      ]
    },
    {
      "cell_type": "markdown",
      "metadata": {
        "id": "NgPLgPxUAaVT"
      },
      "source": [
        "Analisando Dtype das colunas"
      ]
    },
    {
      "cell_type": "code",
      "metadata": {
        "colab": {
          "base_uri": "https://localhost:8080/"
        },
        "id": "VvKaC7ANoCDD",
        "outputId": "feca36bc-bdf3-4718-f10f-1064b4d9897a"
      },
      "source": [
        "dados.info(verbose=True)"
      ],
      "execution_count": null,
      "outputs": [
        {
          "output_type": "stream",
          "name": "stdout",
          "text": [
            "<class 'pandas.core.frame.DataFrame'>\n",
            "RangeIndex: 40000 entries, 0 to 39999\n",
            "Data columns (total 29 columns):\n",
            " #   Column                                Non-Null Count  Dtype  \n",
            "---  ------                                --------------  -----  \n",
            " 0   Unnamed: 0                            40000 non-null  int64  \n",
            " 1   clientId                              40000 non-null  int64  \n",
            " 2   shopId                                40000 non-null  int64  \n",
            " 3   gender                                39997 non-null  object \n",
            " 4   maritalStatus                         40000 non-null  object \n",
            " 5   age                                   40000 non-null  int64  \n",
            " 6   numberOfDependents                    40000 non-null  int64  \n",
            " 7   education                             0 non-null      float64\n",
            " 8   flagResidencialPhone                  40000 non-null  object \n",
            " 9   areaCodeResidencialPhone              40000 non-null  int64  \n",
            " 10  bestPaymentDay                        40000 non-null  int64  \n",
            " 11  shopRank                              40000 non-null  int64  \n",
            " 12  residenceType                         40000 non-null  object \n",
            " 13  monthsInResidence                     40000 non-null  int64  \n",
            " 14  flagMothersName                       40000 non-null  object \n",
            " 15  flagFathersName                       40000 non-null  object \n",
            " 16  flagResidenceTown_WorkingTown         40000 non-null  object \n",
            " 17  flagResidenceState_WorkingState       40000 non-null  object \n",
            " 18  monthsInTheJob                        40000 non-null  int64  \n",
            " 19  professionCode                        40000 non-null  int64  \n",
            " 20  mateIncome                            40000 non-null  float64\n",
            " 21  flagResidencialAddress_PostalAddress  40000 non-null  object \n",
            " 22  flagOtherCard                         40000 non-null  object \n",
            " 23  quantityBankingAccounts               40000 non-null  int64  \n",
            " 24  flagMobilePhone                       40000 non-null  object \n",
            " 25  flagContactPhone                      40000 non-null  object \n",
            " 26  personalNetIncome                     40000 non-null  float64\n",
            " 27  codeApplicationBooth                  40000 non-null  int64  \n",
            " 28  BAD                                   40000 non-null  int64  \n",
            "dtypes: float64(3), int64(14), object(12)\n",
            "memory usage: 8.9+ MB\n"
          ]
        }
      ]
    },
    {
      "cell_type": "markdown",
      "metadata": {
        "id": "iD8us4WkAfWi"
      },
      "source": [
        "Verificando a quantidade de clientes Inadimplentes e Não Inadimplentes"
      ]
    },
    {
      "cell_type": "code",
      "metadata": {
        "colab": {
          "base_uri": "https://localhost:8080/"
        },
        "id": "McmshFxDL9So",
        "outputId": "96ba7b53-35bd-4f26-aaad-ec40cd6ec462"
      },
      "source": [
        "dados['BAD'].value_counts()"
      ],
      "execution_count": null,
      "outputs": [
        {
          "output_type": "execute_result",
          "data": {
            "text/plain": [
              "0    32100\n",
              "1     7900\n",
              "Name: BAD, dtype: int64"
            ]
          },
          "metadata": {},
          "execution_count": 7
        }
      ]
    },
    {
      "cell_type": "markdown",
      "metadata": {
        "id": "SEBcl57Mpq4b"
      },
      "source": [
        "# 1. Tratamento, Limpeza de Dados e Manipulação dos Dados"
      ]
    },
    {
      "cell_type": "markdown",
      "metadata": {
        "id": "v4l1iBs5nP9M"
      },
      "source": [
        "### No caso os dados já estão tratados. Ou seja, o tipo object, int64 e float64 estão bem adptados para o que cada coluna corresponde"
      ]
    },
    {
      "cell_type": "markdown",
      "metadata": {
        "id": "5l9e4-hPxG0q"
      },
      "source": [
        "Removendo as colunas de identificação de cliente, código de profissão e colunas NaN da base de dados. "
      ]
    },
    {
      "cell_type": "code",
      "metadata": {
        "id": "dq3I-GhZpzli"
      },
      "source": [
        "clear_data = dados.drop(['Unnamed: 0', 'clientId', \"shopId\", \"education\", \"professionCode\"], axis=1)"
      ],
      "execution_count": null,
      "outputs": []
    },
    {
      "cell_type": "code",
      "metadata": {
        "colab": {
          "base_uri": "https://localhost:8080/",
          "height": 375
        },
        "id": "irOOL2ZQuBLm",
        "outputId": "a74f5ba5-972e-4307-dc97-1c22cf7fe4cd"
      },
      "source": [
        "clear_data.head(10)"
      ],
      "execution_count": null,
      "outputs": [
        {
          "output_type": "execute_result",
          "data": {
            "text/html": [
              "<div>\n",
              "<style scoped>\n",
              "    .dataframe tbody tr th:only-of-type {\n",
              "        vertical-align: middle;\n",
              "    }\n",
              "\n",
              "    .dataframe tbody tr th {\n",
              "        vertical-align: top;\n",
              "    }\n",
              "\n",
              "    .dataframe thead th {\n",
              "        text-align: right;\n",
              "    }\n",
              "</style>\n",
              "<table border=\"1\" class=\"dataframe\">\n",
              "  <thead>\n",
              "    <tr style=\"text-align: right;\">\n",
              "      <th></th>\n",
              "      <th>gender</th>\n",
              "      <th>maritalStatus</th>\n",
              "      <th>age</th>\n",
              "      <th>numberOfDependents</th>\n",
              "      <th>flagResidencialPhone</th>\n",
              "      <th>areaCodeResidencialPhone</th>\n",
              "      <th>bestPaymentDay</th>\n",
              "      <th>shopRank</th>\n",
              "      <th>residenceType</th>\n",
              "      <th>monthsInResidence</th>\n",
              "      <th>flagMothersName</th>\n",
              "      <th>flagFathersName</th>\n",
              "      <th>flagResidenceTown_WorkingTown</th>\n",
              "      <th>flagResidenceState_WorkingState</th>\n",
              "      <th>monthsInTheJob</th>\n",
              "      <th>mateIncome</th>\n",
              "      <th>flagResidencialAddress_PostalAddress</th>\n",
              "      <th>flagOtherCard</th>\n",
              "      <th>quantityBankingAccounts</th>\n",
              "      <th>flagMobilePhone</th>\n",
              "      <th>flagContactPhone</th>\n",
              "      <th>personalNetIncome</th>\n",
              "      <th>codeApplicationBooth</th>\n",
              "      <th>BAD</th>\n",
              "    </tr>\n",
              "  </thead>\n",
              "  <tbody>\n",
              "    <tr>\n",
              "      <th>0</th>\n",
              "      <td>F</td>\n",
              "      <td>S</td>\n",
              "      <td>18</td>\n",
              "      <td>0</td>\n",
              "      <td>Y</td>\n",
              "      <td>31</td>\n",
              "      <td>20</td>\n",
              "      <td>0</td>\n",
              "      <td>P</td>\n",
              "      <td>216</td>\n",
              "      <td>Y</td>\n",
              "      <td>Y</td>\n",
              "      <td>Y</td>\n",
              "      <td>Y</td>\n",
              "      <td>12</td>\n",
              "      <td>0.0</td>\n",
              "      <td>Y</td>\n",
              "      <td>N</td>\n",
              "      <td>0</td>\n",
              "      <td>N</td>\n",
              "      <td>N</td>\n",
              "      <td>300.0</td>\n",
              "      <td>0</td>\n",
              "      <td>0</td>\n",
              "    </tr>\n",
              "    <tr>\n",
              "      <th>1</th>\n",
              "      <td>F</td>\n",
              "      <td>C</td>\n",
              "      <td>47</td>\n",
              "      <td>0</td>\n",
              "      <td>N</td>\n",
              "      <td>31</td>\n",
              "      <td>25</td>\n",
              "      <td>0</td>\n",
              "      <td>P</td>\n",
              "      <td>180</td>\n",
              "      <td>Y</td>\n",
              "      <td>Y</td>\n",
              "      <td>N</td>\n",
              "      <td>Y</td>\n",
              "      <td>24</td>\n",
              "      <td>0.0</td>\n",
              "      <td>Y</td>\n",
              "      <td>N</td>\n",
              "      <td>0</td>\n",
              "      <td>N</td>\n",
              "      <td>N</td>\n",
              "      <td>304.0</td>\n",
              "      <td>0</td>\n",
              "      <td>0</td>\n",
              "    </tr>\n",
              "    <tr>\n",
              "      <th>2</th>\n",
              "      <td>F</td>\n",
              "      <td>S</td>\n",
              "      <td>28</td>\n",
              "      <td>0</td>\n",
              "      <td>Y</td>\n",
              "      <td>31</td>\n",
              "      <td>25</td>\n",
              "      <td>0</td>\n",
              "      <td>O</td>\n",
              "      <td>12</td>\n",
              "      <td>Y</td>\n",
              "      <td>Y</td>\n",
              "      <td>Y</td>\n",
              "      <td>Y</td>\n",
              "      <td>12</td>\n",
              "      <td>0.0</td>\n",
              "      <td>Y</td>\n",
              "      <td>N</td>\n",
              "      <td>0</td>\n",
              "      <td>N</td>\n",
              "      <td>N</td>\n",
              "      <td>250.0</td>\n",
              "      <td>0</td>\n",
              "      <td>0</td>\n",
              "    </tr>\n",
              "    <tr>\n",
              "      <th>3</th>\n",
              "      <td>M</td>\n",
              "      <td>S</td>\n",
              "      <td>26</td>\n",
              "      <td>0</td>\n",
              "      <td>N</td>\n",
              "      <td>31</td>\n",
              "      <td>28</td>\n",
              "      <td>0</td>\n",
              "      <td>P</td>\n",
              "      <td>180</td>\n",
              "      <td>Y</td>\n",
              "      <td>Y</td>\n",
              "      <td>N</td>\n",
              "      <td>Y</td>\n",
              "      <td>0</td>\n",
              "      <td>0.0</td>\n",
              "      <td>Y</td>\n",
              "      <td>N</td>\n",
              "      <td>0</td>\n",
              "      <td>N</td>\n",
              "      <td>N</td>\n",
              "      <td>800.0</td>\n",
              "      <td>0</td>\n",
              "      <td>0</td>\n",
              "    </tr>\n",
              "    <tr>\n",
              "      <th>4</th>\n",
              "      <td>F</td>\n",
              "      <td>S</td>\n",
              "      <td>22</td>\n",
              "      <td>0</td>\n",
              "      <td>Y</td>\n",
              "      <td>31</td>\n",
              "      <td>12</td>\n",
              "      <td>0</td>\n",
              "      <td>A</td>\n",
              "      <td>0</td>\n",
              "      <td>Y</td>\n",
              "      <td>Y</td>\n",
              "      <td>Y</td>\n",
              "      <td>Y</td>\n",
              "      <td>48</td>\n",
              "      <td>0.0</td>\n",
              "      <td>Y</td>\n",
              "      <td>N</td>\n",
              "      <td>0</td>\n",
              "      <td>N</td>\n",
              "      <td>N</td>\n",
              "      <td>410.0</td>\n",
              "      <td>0</td>\n",
              "      <td>0</td>\n",
              "    </tr>\n",
              "    <tr>\n",
              "      <th>5</th>\n",
              "      <td>F</td>\n",
              "      <td>C</td>\n",
              "      <td>21</td>\n",
              "      <td>0</td>\n",
              "      <td>Y</td>\n",
              "      <td>23</td>\n",
              "      <td>28</td>\n",
              "      <td>0</td>\n",
              "      <td>A</td>\n",
              "      <td>24</td>\n",
              "      <td>Y</td>\n",
              "      <td>Y</td>\n",
              "      <td>Y</td>\n",
              "      <td>Y</td>\n",
              "      <td>12</td>\n",
              "      <td>800.0</td>\n",
              "      <td>Y</td>\n",
              "      <td>N</td>\n",
              "      <td>0</td>\n",
              "      <td>N</td>\n",
              "      <td>N</td>\n",
              "      <td>248.0</td>\n",
              "      <td>0</td>\n",
              "      <td>0</td>\n",
              "    </tr>\n",
              "    <tr>\n",
              "      <th>6</th>\n",
              "      <td>F</td>\n",
              "      <td>S</td>\n",
              "      <td>27</td>\n",
              "      <td>0</td>\n",
              "      <td>Y</td>\n",
              "      <td>31</td>\n",
              "      <td>20</td>\n",
              "      <td>0</td>\n",
              "      <td>A</td>\n",
              "      <td>0</td>\n",
              "      <td>Y</td>\n",
              "      <td>Y</td>\n",
              "      <td>Y</td>\n",
              "      <td>Y</td>\n",
              "      <td>0</td>\n",
              "      <td>0.0</td>\n",
              "      <td>Y</td>\n",
              "      <td>N</td>\n",
              "      <td>0</td>\n",
              "      <td>N</td>\n",
              "      <td>N</td>\n",
              "      <td>1000.0</td>\n",
              "      <td>0</td>\n",
              "      <td>1</td>\n",
              "    </tr>\n",
              "    <tr>\n",
              "      <th>7</th>\n",
              "      <td>F</td>\n",
              "      <td>C</td>\n",
              "      <td>57</td>\n",
              "      <td>0</td>\n",
              "      <td>Y</td>\n",
              "      <td>31</td>\n",
              "      <td>12</td>\n",
              "      <td>0</td>\n",
              "      <td>P</td>\n",
              "      <td>24</td>\n",
              "      <td>Y</td>\n",
              "      <td>Y</td>\n",
              "      <td>N</td>\n",
              "      <td>Y</td>\n",
              "      <td>96</td>\n",
              "      <td>0.0</td>\n",
              "      <td>Y</td>\n",
              "      <td>N</td>\n",
              "      <td>0</td>\n",
              "      <td>N</td>\n",
              "      <td>N</td>\n",
              "      <td>856.0</td>\n",
              "      <td>0</td>\n",
              "      <td>0</td>\n",
              "    </tr>\n",
              "    <tr>\n",
              "      <th>8</th>\n",
              "      <td>F</td>\n",
              "      <td>S</td>\n",
              "      <td>53</td>\n",
              "      <td>0</td>\n",
              "      <td>Y</td>\n",
              "      <td>31</td>\n",
              "      <td>18</td>\n",
              "      <td>0</td>\n",
              "      <td>P</td>\n",
              "      <td>60</td>\n",
              "      <td>Y</td>\n",
              "      <td>Y</td>\n",
              "      <td>N</td>\n",
              "      <td>Y</td>\n",
              "      <td>24</td>\n",
              "      <td>0.0</td>\n",
              "      <td>Y</td>\n",
              "      <td>N</td>\n",
              "      <td>0</td>\n",
              "      <td>N</td>\n",
              "      <td>N</td>\n",
              "      <td>738.0</td>\n",
              "      <td>0</td>\n",
              "      <td>1</td>\n",
              "    </tr>\n",
              "    <tr>\n",
              "      <th>9</th>\n",
              "      <td>F</td>\n",
              "      <td>C</td>\n",
              "      <td>32</td>\n",
              "      <td>0</td>\n",
              "      <td>Y</td>\n",
              "      <td>31</td>\n",
              "      <td>12</td>\n",
              "      <td>0</td>\n",
              "      <td>P</td>\n",
              "      <td>24</td>\n",
              "      <td>Y</td>\n",
              "      <td>Y</td>\n",
              "      <td>N</td>\n",
              "      <td>Y</td>\n",
              "      <td>0</td>\n",
              "      <td>0.0</td>\n",
              "      <td>Y</td>\n",
              "      <td>N</td>\n",
              "      <td>0</td>\n",
              "      <td>N</td>\n",
              "      <td>N</td>\n",
              "      <td>700.0</td>\n",
              "      <td>0</td>\n",
              "      <td>0</td>\n",
              "    </tr>\n",
              "  </tbody>\n",
              "</table>\n",
              "</div>"
            ],
            "text/plain": [
              "  gender maritalStatus  age  ...  personalNetIncome codeApplicationBooth  BAD\n",
              "0      F             S   18  ...              300.0                    0    0\n",
              "1      F             C   47  ...              304.0                    0    0\n",
              "2      F             S   28  ...              250.0                    0    0\n",
              "3      M             S   26  ...              800.0                    0    0\n",
              "4      F             S   22  ...              410.0                    0    0\n",
              "5      F             C   21  ...              248.0                    0    0\n",
              "6      F             S   27  ...             1000.0                    0    1\n",
              "7      F             C   57  ...              856.0                    0    0\n",
              "8      F             S   53  ...              738.0                    0    1\n",
              "9      F             C   32  ...              700.0                    0    0\n",
              "\n",
              "[10 rows x 24 columns]"
            ]
          },
          "metadata": {},
          "execution_count": 9
        }
      ]
    },
    {
      "cell_type": "markdown",
      "metadata": {
        "id": "HJ0-NQx4Chum"
      },
      "source": [
        "### Dividindo a análise em variáveis qualitativas e quantitativas"
      ]
    },
    {
      "cell_type": "code",
      "metadata": {
        "colab": {
          "base_uri": "https://localhost:8080/",
          "height": 191
        },
        "id": "655SJ1rdzbNI",
        "outputId": "49a96114-5564-499c-b15c-aa015a27e981"
      },
      "source": [
        "#Selecionando as variaveis categóricas e variaveis discretas/Continuas\n",
        "clear_data.select_dtypes(include=\"object\").describe()"
      ],
      "execution_count": null,
      "outputs": [
        {
          "output_type": "execute_result",
          "data": {
            "text/html": [
              "<div>\n",
              "<style scoped>\n",
              "    .dataframe tbody tr th:only-of-type {\n",
              "        vertical-align: middle;\n",
              "    }\n",
              "\n",
              "    .dataframe tbody tr th {\n",
              "        vertical-align: top;\n",
              "    }\n",
              "\n",
              "    .dataframe thead th {\n",
              "        text-align: right;\n",
              "    }\n",
              "</style>\n",
              "<table border=\"1\" class=\"dataframe\">\n",
              "  <thead>\n",
              "    <tr style=\"text-align: right;\">\n",
              "      <th></th>\n",
              "      <th>gender</th>\n",
              "      <th>maritalStatus</th>\n",
              "      <th>flagResidencialPhone</th>\n",
              "      <th>residenceType</th>\n",
              "      <th>flagMothersName</th>\n",
              "      <th>flagFathersName</th>\n",
              "      <th>flagResidenceTown_WorkingTown</th>\n",
              "      <th>flagResidenceState_WorkingState</th>\n",
              "      <th>flagResidencialAddress_PostalAddress</th>\n",
              "      <th>flagOtherCard</th>\n",
              "      <th>flagMobilePhone</th>\n",
              "      <th>flagContactPhone</th>\n",
              "    </tr>\n",
              "  </thead>\n",
              "  <tbody>\n",
              "    <tr>\n",
              "      <th>count</th>\n",
              "      <td>39997</td>\n",
              "      <td>40000</td>\n",
              "      <td>40000</td>\n",
              "      <td>40000</td>\n",
              "      <td>40000</td>\n",
              "      <td>40000</td>\n",
              "      <td>40000</td>\n",
              "      <td>40000</td>\n",
              "      <td>40000</td>\n",
              "      <td>40000</td>\n",
              "      <td>40000</td>\n",
              "      <td>40000</td>\n",
              "    </tr>\n",
              "    <tr>\n",
              "      <th>unique</th>\n",
              "      <td>2</td>\n",
              "      <td>5</td>\n",
              "      <td>2</td>\n",
              "      <td>4</td>\n",
              "      <td>2</td>\n",
              "      <td>2</td>\n",
              "      <td>2</td>\n",
              "      <td>2</td>\n",
              "      <td>2</td>\n",
              "      <td>1</td>\n",
              "      <td>1</td>\n",
              "      <td>1</td>\n",
              "    </tr>\n",
              "    <tr>\n",
              "      <th>top</th>\n",
              "      <td>F</td>\n",
              "      <td>S</td>\n",
              "      <td>Y</td>\n",
              "      <td>P</td>\n",
              "      <td>Y</td>\n",
              "      <td>Y</td>\n",
              "      <td>N</td>\n",
              "      <td>Y</td>\n",
              "      <td>Y</td>\n",
              "      <td>N</td>\n",
              "      <td>N</td>\n",
              "      <td>N</td>\n",
              "    </tr>\n",
              "    <tr>\n",
              "      <th>freq</th>\n",
              "      <td>27903</td>\n",
              "      <td>20375</td>\n",
              "      <td>32649</td>\n",
              "      <td>29752</td>\n",
              "      <td>39850</td>\n",
              "      <td>38342</td>\n",
              "      <td>21740</td>\n",
              "      <td>39653</td>\n",
              "      <td>39158</td>\n",
              "      <td>40000</td>\n",
              "      <td>40000</td>\n",
              "      <td>40000</td>\n",
              "    </tr>\n",
              "  </tbody>\n",
              "</table>\n",
              "</div>"
            ],
            "text/plain": [
              "       gender maritalStatus  ... flagMobilePhone flagContactPhone\n",
              "count   39997         40000  ...           40000            40000\n",
              "unique      2             5  ...               1                1\n",
              "top         F             S  ...               N                N\n",
              "freq    27903         20375  ...           40000            40000\n",
              "\n",
              "[4 rows x 12 columns]"
            ]
          },
          "metadata": {},
          "execution_count": 10
        }
      ]
    },
    {
      "cell_type": "markdown",
      "metadata": {
        "id": "uKZNWLXVbdEB"
      },
      "source": [
        "Avaliando as variáveis categóricas. É possível observar que as colunas:\n",
        "\n",
        "1. flagResidencialAddress_PostalAddress\n",
        "2. flagOtherCard\n",
        "3. flagMobilePhone\n",
        "4. flagContactPhone \n",
        "5. flagResidenceState_WorkingState\n",
        "6. flagMothersName\n",
        "7. flagFathersName\n",
        "\n",
        "Todas possuem ou a mesma quantidade de repetições do mesmo rótulo, ou seja, Y ou N. ou pelo menos grande parte como nas colunas __flagResidencialAddress_PostalAddress,flagResidenceState_WorkingState,\n",
        "flagMothersName e flagFathersName__ que contem uma contagem no valor de 20562, mas que a frequência de repetições do rótulo Y  praticamente 95% ou superior da contagem inteira. Além disso, a coluna __gender__ também apresenta uma pequena parte das linhas com valores NaN. Então, irei  analisar essas linhas para remover elas da minha análise. "
      ]
    },
    {
      "cell_type": "code",
      "metadata": {
        "id": "D68BUEF9efto"
      },
      "source": [
        "clear_data = clear_data.drop([\"flagResidencialAddress_PostalAddress\",'flagOtherCard','flagMobilePhone','flagContactPhone','flagResidenceState_WorkingState','flagMothersName','flagFathersName'], axis=1)"
      ],
      "execution_count": null,
      "outputs": []
    },
    {
      "cell_type": "code",
      "metadata": {
        "colab": {
          "base_uri": "https://localhost:8080/",
          "height": 222
        },
        "id": "76uhs4SGCwsj",
        "outputId": "13862a5e-9739-40c3-fb24-98c148b7fd1b"
      },
      "source": [
        "clear_data.head()"
      ],
      "execution_count": null,
      "outputs": [
        {
          "output_type": "execute_result",
          "data": {
            "text/html": [
              "<div>\n",
              "<style scoped>\n",
              "    .dataframe tbody tr th:only-of-type {\n",
              "        vertical-align: middle;\n",
              "    }\n",
              "\n",
              "    .dataframe tbody tr th {\n",
              "        vertical-align: top;\n",
              "    }\n",
              "\n",
              "    .dataframe thead th {\n",
              "        text-align: right;\n",
              "    }\n",
              "</style>\n",
              "<table border=\"1\" class=\"dataframe\">\n",
              "  <thead>\n",
              "    <tr style=\"text-align: right;\">\n",
              "      <th></th>\n",
              "      <th>gender</th>\n",
              "      <th>maritalStatus</th>\n",
              "      <th>age</th>\n",
              "      <th>numberOfDependents</th>\n",
              "      <th>flagResidencialPhone</th>\n",
              "      <th>areaCodeResidencialPhone</th>\n",
              "      <th>bestPaymentDay</th>\n",
              "      <th>shopRank</th>\n",
              "      <th>residenceType</th>\n",
              "      <th>monthsInResidence</th>\n",
              "      <th>flagResidenceTown_WorkingTown</th>\n",
              "      <th>monthsInTheJob</th>\n",
              "      <th>mateIncome</th>\n",
              "      <th>quantityBankingAccounts</th>\n",
              "      <th>personalNetIncome</th>\n",
              "      <th>codeApplicationBooth</th>\n",
              "      <th>BAD</th>\n",
              "    </tr>\n",
              "  </thead>\n",
              "  <tbody>\n",
              "    <tr>\n",
              "      <th>0</th>\n",
              "      <td>F</td>\n",
              "      <td>S</td>\n",
              "      <td>18</td>\n",
              "      <td>0</td>\n",
              "      <td>Y</td>\n",
              "      <td>31</td>\n",
              "      <td>20</td>\n",
              "      <td>0</td>\n",
              "      <td>P</td>\n",
              "      <td>216</td>\n",
              "      <td>Y</td>\n",
              "      <td>12</td>\n",
              "      <td>0.0</td>\n",
              "      <td>0</td>\n",
              "      <td>300.0</td>\n",
              "      <td>0</td>\n",
              "      <td>0</td>\n",
              "    </tr>\n",
              "    <tr>\n",
              "      <th>1</th>\n",
              "      <td>F</td>\n",
              "      <td>C</td>\n",
              "      <td>47</td>\n",
              "      <td>0</td>\n",
              "      <td>N</td>\n",
              "      <td>31</td>\n",
              "      <td>25</td>\n",
              "      <td>0</td>\n",
              "      <td>P</td>\n",
              "      <td>180</td>\n",
              "      <td>N</td>\n",
              "      <td>24</td>\n",
              "      <td>0.0</td>\n",
              "      <td>0</td>\n",
              "      <td>304.0</td>\n",
              "      <td>0</td>\n",
              "      <td>0</td>\n",
              "    </tr>\n",
              "    <tr>\n",
              "      <th>2</th>\n",
              "      <td>F</td>\n",
              "      <td>S</td>\n",
              "      <td>28</td>\n",
              "      <td>0</td>\n",
              "      <td>Y</td>\n",
              "      <td>31</td>\n",
              "      <td>25</td>\n",
              "      <td>0</td>\n",
              "      <td>O</td>\n",
              "      <td>12</td>\n",
              "      <td>Y</td>\n",
              "      <td>12</td>\n",
              "      <td>0.0</td>\n",
              "      <td>0</td>\n",
              "      <td>250.0</td>\n",
              "      <td>0</td>\n",
              "      <td>0</td>\n",
              "    </tr>\n",
              "    <tr>\n",
              "      <th>3</th>\n",
              "      <td>M</td>\n",
              "      <td>S</td>\n",
              "      <td>26</td>\n",
              "      <td>0</td>\n",
              "      <td>N</td>\n",
              "      <td>31</td>\n",
              "      <td>28</td>\n",
              "      <td>0</td>\n",
              "      <td>P</td>\n",
              "      <td>180</td>\n",
              "      <td>N</td>\n",
              "      <td>0</td>\n",
              "      <td>0.0</td>\n",
              "      <td>0</td>\n",
              "      <td>800.0</td>\n",
              "      <td>0</td>\n",
              "      <td>0</td>\n",
              "    </tr>\n",
              "    <tr>\n",
              "      <th>4</th>\n",
              "      <td>F</td>\n",
              "      <td>S</td>\n",
              "      <td>22</td>\n",
              "      <td>0</td>\n",
              "      <td>Y</td>\n",
              "      <td>31</td>\n",
              "      <td>12</td>\n",
              "      <td>0</td>\n",
              "      <td>A</td>\n",
              "      <td>0</td>\n",
              "      <td>Y</td>\n",
              "      <td>48</td>\n",
              "      <td>0.0</td>\n",
              "      <td>0</td>\n",
              "      <td>410.0</td>\n",
              "      <td>0</td>\n",
              "      <td>0</td>\n",
              "    </tr>\n",
              "  </tbody>\n",
              "</table>\n",
              "</div>"
            ],
            "text/plain": [
              "  gender maritalStatus  age  ...  personalNetIncome codeApplicationBooth  BAD\n",
              "0      F             S   18  ...              300.0                    0    0\n",
              "1      F             C   47  ...              304.0                    0    0\n",
              "2      F             S   28  ...              250.0                    0    0\n",
              "3      M             S   26  ...              800.0                    0    0\n",
              "4      F             S   22  ...              410.0                    0    0\n",
              "\n",
              "[5 rows x 17 columns]"
            ]
          },
          "metadata": {},
          "execution_count": 12
        }
      ]
    },
    {
      "cell_type": "markdown",
      "metadata": {
        "id": "X23_Z1oay1BA"
      },
      "source": [
        "Verificando agora a relação entre o perfil de gênero e também o status matrimonial de cada cliente"
      ]
    },
    {
      "cell_type": "code",
      "metadata": {
        "colab": {
          "base_uri": "https://localhost:8080/",
          "height": 356
        },
        "id": "lcJo98vizDic",
        "outputId": "415bcf1f-74e2-4570-9ddc-138762940bf7"
      },
      "source": [
        "dataset_marital_gender_bad = dados[['BAD','gender','maritalStatus']]\n",
        "#Verificando qual gênero é mais inadimplente\n",
        "display(dataset_marital_gender_bad[(dataset_marital_gender_bad['BAD']==1.0)].groupby(by='gender').sum())\n",
        "#verificando qual estado civil é mais inadimplente\n",
        "display(dataset_marital_gender_bad[(dataset_marital_gender_bad['BAD']==1.0)].groupby(by='maritalStatus').sum())"
      ],
      "execution_count": null,
      "outputs": [
        {
          "output_type": "display_data",
          "data": {
            "text/html": [
              "<div>\n",
              "<style scoped>\n",
              "    .dataframe tbody tr th:only-of-type {\n",
              "        vertical-align: middle;\n",
              "    }\n",
              "\n",
              "    .dataframe tbody tr th {\n",
              "        vertical-align: top;\n",
              "    }\n",
              "\n",
              "    .dataframe thead th {\n",
              "        text-align: right;\n",
              "    }\n",
              "</style>\n",
              "<table border=\"1\" class=\"dataframe\">\n",
              "  <thead>\n",
              "    <tr style=\"text-align: right;\">\n",
              "      <th></th>\n",
              "      <th>BAD</th>\n",
              "    </tr>\n",
              "    <tr>\n",
              "      <th>gender</th>\n",
              "      <th></th>\n",
              "    </tr>\n",
              "  </thead>\n",
              "  <tbody>\n",
              "    <tr>\n",
              "      <th>F</th>\n",
              "      <td>5020</td>\n",
              "    </tr>\n",
              "    <tr>\n",
              "      <th>M</th>\n",
              "      <td>2879</td>\n",
              "    </tr>\n",
              "  </tbody>\n",
              "</table>\n",
              "</div>"
            ],
            "text/plain": [
              "         BAD\n",
              "gender      \n",
              "F       5020\n",
              "M       2879"
            ]
          },
          "metadata": {}
        },
        {
          "output_type": "display_data",
          "data": {
            "text/html": [
              "<div>\n",
              "<style scoped>\n",
              "    .dataframe tbody tr th:only-of-type {\n",
              "        vertical-align: middle;\n",
              "    }\n",
              "\n",
              "    .dataframe tbody tr th {\n",
              "        vertical-align: top;\n",
              "    }\n",
              "\n",
              "    .dataframe thead th {\n",
              "        text-align: right;\n",
              "    }\n",
              "</style>\n",
              "<table border=\"1\" class=\"dataframe\">\n",
              "  <thead>\n",
              "    <tr style=\"text-align: right;\">\n",
              "      <th></th>\n",
              "      <th>BAD</th>\n",
              "    </tr>\n",
              "    <tr>\n",
              "      <th>maritalStatus</th>\n",
              "      <th></th>\n",
              "    </tr>\n",
              "  </thead>\n",
              "  <tbody>\n",
              "    <tr>\n",
              "      <th>C</th>\n",
              "      <td>1996</td>\n",
              "    </tr>\n",
              "    <tr>\n",
              "      <th>D</th>\n",
              "      <td>259</td>\n",
              "    </tr>\n",
              "    <tr>\n",
              "      <th>O</th>\n",
              "      <td>517</td>\n",
              "    </tr>\n",
              "    <tr>\n",
              "      <th>S</th>\n",
              "      <td>4894</td>\n",
              "    </tr>\n",
              "    <tr>\n",
              "      <th>V</th>\n",
              "      <td>234</td>\n",
              "    </tr>\n",
              "  </tbody>\n",
              "</table>\n",
              "</div>"
            ],
            "text/plain": [
              "                BAD\n",
              "maritalStatus      \n",
              "C              1996\n",
              "D               259\n",
              "O               517\n",
              "S              4894\n",
              "V               234"
            ]
          },
          "metadata": {}
        }
      ]
    },
    {
      "cell_type": "markdown",
      "metadata": {
        "id": "qYaYoLPN1a1y"
      },
      "source": [
        "Sabendo disso, irei preencher as linhas NaN com o status matrimonial mais inadimplente e também o gênero mais inadimplente."
      ]
    },
    {
      "cell_type": "code",
      "metadata": {
        "colab": {
          "base_uri": "https://localhost:8080/"
        },
        "id": "ewweYOXJ1nDa",
        "outputId": "f3a3b83a-9ca2-4dff-ab32-5d9e9116857b"
      },
      "source": [
        "print(\"Qauntidade por gênero\")\n",
        "print(dataset_marital_gender_bad['gender'].value_counts()) #index 0\n",
        "print(\"-=\"*15)\n",
        "print(\"Quantidade por Estado Civil\")\n",
        "print(dataset_marital_gender_bad['maritalStatus'].value_counts()) #index 1"
      ],
      "execution_count": null,
      "outputs": [
        {
          "output_type": "stream",
          "name": "stdout",
          "text": [
            "Qauntidade por gênero\n",
            "F    27903\n",
            "M    12094\n",
            "Name: gender, dtype: int64\n",
            "-=-=-=-=-=-=-=-=-=-=-=-=-=-=-=\n",
            "Quantidade por Estado Civil\n",
            "S    20375\n",
            "C    13721\n",
            "O     2220\n",
            "V     1961\n",
            "D     1723\n",
            "Name: maritalStatus, dtype: int64\n"
          ]
        }
      ]
    },
    {
      "cell_type": "markdown",
      "metadata": {
        "id": "tqHoytyDIPMa"
      },
      "source": [
        "Apenas uma das linhas não preenchidas na coluna gender é considerada inadimplente. Então, irei remover da base de dados para que seja feito o LabelEncode corretamente."
      ]
    },
    {
      "cell_type": "code",
      "metadata": {
        "colab": {
          "base_uri": "https://localhost:8080/",
          "height": 383
        },
        "id": "NG-2T2ecB65_",
        "outputId": "8314e11a-20d3-4150-fb5e-35eb9fa4e85f"
      },
      "source": [
        "remocao = dados[['gender', 'BAD']]\n",
        "display(remocao[(remocao['BAD']==1)].isnull().value_counts())\n",
        "clear_data.dropna(inplace=True)\n",
        "clear_data.isnull().sum()"
      ],
      "execution_count": null,
      "outputs": [
        {
          "output_type": "display_data",
          "data": {
            "text/plain": [
              "gender  BAD  \n",
              "False   False    7899\n",
              "True    False       1\n",
              "dtype: int64"
            ]
          },
          "metadata": {}
        },
        {
          "output_type": "execute_result",
          "data": {
            "text/plain": [
              "gender                           0\n",
              "maritalStatus                    0\n",
              "age                              0\n",
              "numberOfDependents               0\n",
              "flagResidencialPhone             0\n",
              "areaCodeResidencialPhone         0\n",
              "bestPaymentDay                   0\n",
              "shopRank                         0\n",
              "residenceType                    0\n",
              "monthsInResidence                0\n",
              "flagResidenceTown_WorkingTown    0\n",
              "monthsInTheJob                   0\n",
              "mateIncome                       0\n",
              "quantityBankingAccounts          0\n",
              "personalNetIncome                0\n",
              "codeApplicationBooth             0\n",
              "BAD                              0\n",
              "dtype: int64"
            ]
          },
          "metadata": {},
          "execution_count": 15
        }
      ]
    },
    {
      "cell_type": "markdown",
      "metadata": {
        "id": "F7oaqEez8uSu"
      },
      "source": [
        "Verificando a coluna __flagResidenceTown_WorkingTown__ para saber qual a relação de mal pagadores com os rótulos da coluna"
      ]
    },
    {
      "cell_type": "code",
      "metadata": {
        "colab": {
          "base_uri": "https://localhost:8080/",
          "height": 141
        },
        "id": "V5OnIqD69Q8Y",
        "outputId": "1686a852-6ca6-438a-f3aa-060ef096cc4b"
      },
      "source": [
        "dataset_flag_residence = dados[['BAD','flagResidenceTown_WorkingTown']]\n",
        "display(dataset_flag_residence[(dataset_flag_residence['BAD']==1.0)].groupby(by='flagResidenceTown_WorkingTown').sum())"
      ],
      "execution_count": null,
      "outputs": [
        {
          "output_type": "display_data",
          "data": {
            "text/html": [
              "<div>\n",
              "<style scoped>\n",
              "    .dataframe tbody tr th:only-of-type {\n",
              "        vertical-align: middle;\n",
              "    }\n",
              "\n",
              "    .dataframe tbody tr th {\n",
              "        vertical-align: top;\n",
              "    }\n",
              "\n",
              "    .dataframe thead th {\n",
              "        text-align: right;\n",
              "    }\n",
              "</style>\n",
              "<table border=\"1\" class=\"dataframe\">\n",
              "  <thead>\n",
              "    <tr style=\"text-align: right;\">\n",
              "      <th></th>\n",
              "      <th>BAD</th>\n",
              "    </tr>\n",
              "    <tr>\n",
              "      <th>flagResidenceTown_WorkingTown</th>\n",
              "      <th></th>\n",
              "    </tr>\n",
              "  </thead>\n",
              "  <tbody>\n",
              "    <tr>\n",
              "      <th>N</th>\n",
              "      <td>4447</td>\n",
              "    </tr>\n",
              "    <tr>\n",
              "      <th>Y</th>\n",
              "      <td>3453</td>\n",
              "    </tr>\n",
              "  </tbody>\n",
              "</table>\n",
              "</div>"
            ],
            "text/plain": [
              "                                BAD\n",
              "flagResidenceTown_WorkingTown      \n",
              "N                              4447\n",
              "Y                              3453"
            ]
          },
          "metadata": {}
        }
      ]
    },
    {
      "cell_type": "markdown",
      "metadata": {
        "id": "Aktxj_yyE8b6"
      },
      "source": [
        "Verificando a coluna FlagResidencialPhone"
      ]
    },
    {
      "cell_type": "code",
      "metadata": {
        "colab": {
          "base_uri": "https://localhost:8080/"
        },
        "id": "xwbzz6VaFAQ8",
        "outputId": "7347faf5-e12f-459c-b4b7-b182166ff099"
      },
      "source": [
        "dataset_residence_phone = dados[['flagResidencialPhone', 'BAD']]\n",
        "dataset_residence_phone[(dataset_residence_phone['BAD']==1)].value_counts()"
      ],
      "execution_count": null,
      "outputs": [
        {
          "output_type": "execute_result",
          "data": {
            "text/plain": [
              "flagResidencialPhone  BAD\n",
              "Y                     1      5753\n",
              "N                     1      2147\n",
              "dtype: int64"
            ]
          },
          "metadata": {},
          "execution_count": 17
        }
      ]
    },
    {
      "cell_type": "markdown",
      "metadata": {
        "id": "tIj0ODcT10HD"
      },
      "source": [
        "### Tratando as colunas quantitativas"
      ]
    },
    {
      "cell_type": "code",
      "metadata": {
        "colab": {
          "base_uri": "https://localhost:8080/",
          "height": 314
        },
        "id": "SbGVuxy-z2Pu",
        "outputId": "949f4e33-0a31-4caf-e3ae-8c19089354f2"
      },
      "source": [
        "clear_data.select_dtypes(include=[\"int64\",'float64']).describe()"
      ],
      "execution_count": null,
      "outputs": [
        {
          "output_type": "execute_result",
          "data": {
            "text/html": [
              "<div>\n",
              "<style scoped>\n",
              "    .dataframe tbody tr th:only-of-type {\n",
              "        vertical-align: middle;\n",
              "    }\n",
              "\n",
              "    .dataframe tbody tr th {\n",
              "        vertical-align: top;\n",
              "    }\n",
              "\n",
              "    .dataframe thead th {\n",
              "        text-align: right;\n",
              "    }\n",
              "</style>\n",
              "<table border=\"1\" class=\"dataframe\">\n",
              "  <thead>\n",
              "    <tr style=\"text-align: right;\">\n",
              "      <th></th>\n",
              "      <th>age</th>\n",
              "      <th>numberOfDependents</th>\n",
              "      <th>areaCodeResidencialPhone</th>\n",
              "      <th>bestPaymentDay</th>\n",
              "      <th>shopRank</th>\n",
              "      <th>monthsInResidence</th>\n",
              "      <th>monthsInTheJob</th>\n",
              "      <th>mateIncome</th>\n",
              "      <th>quantityBankingAccounts</th>\n",
              "      <th>personalNetIncome</th>\n",
              "      <th>codeApplicationBooth</th>\n",
              "      <th>BAD</th>\n",
              "    </tr>\n",
              "  </thead>\n",
              "  <tbody>\n",
              "    <tr>\n",
              "      <th>count</th>\n",
              "      <td>39997.000000</td>\n",
              "      <td>39997.0</td>\n",
              "      <td>39997.000000</td>\n",
              "      <td>39997.000000</td>\n",
              "      <td>39997.000000</td>\n",
              "      <td>39997.000000</td>\n",
              "      <td>39997.000000</td>\n",
              "      <td>39997.000000</td>\n",
              "      <td>39997.0</td>\n",
              "      <td>3.999700e+04</td>\n",
              "      <td>39997.0</td>\n",
              "      <td>39997.00000</td>\n",
              "    </tr>\n",
              "    <tr>\n",
              "      <th>mean</th>\n",
              "      <td>34.649349</td>\n",
              "      <td>0.0</td>\n",
              "      <td>33.812011</td>\n",
              "      <td>15.314074</td>\n",
              "      <td>0.015951</td>\n",
              "      <td>152.922969</td>\n",
              "      <td>50.624897</td>\n",
              "      <td>50.997158</td>\n",
              "      <td>0.0</td>\n",
              "      <td>9.753399e+03</td>\n",
              "      <td>0.0</td>\n",
              "      <td>0.19749</td>\n",
              "    </tr>\n",
              "    <tr>\n",
              "      <th>std</th>\n",
              "      <td>13.076486</td>\n",
              "      <td>0.0</td>\n",
              "      <td>10.402998</td>\n",
              "      <td>7.159710</td>\n",
              "      <td>0.212132</td>\n",
              "      <td>136.099241</td>\n",
              "      <td>73.871400</td>\n",
              "      <td>507.177952</td>\n",
              "      <td>0.0</td>\n",
              "      <td>4.856517e+05</td>\n",
              "      <td>0.0</td>\n",
              "      <td>0.39811</td>\n",
              "    </tr>\n",
              "    <tr>\n",
              "      <th>min</th>\n",
              "      <td>15.000000</td>\n",
              "      <td>0.0</td>\n",
              "      <td>1.000000</td>\n",
              "      <td>1.000000</td>\n",
              "      <td>0.000000</td>\n",
              "      <td>0.000000</td>\n",
              "      <td>0.000000</td>\n",
              "      <td>0.000000</td>\n",
              "      <td>0.0</td>\n",
              "      <td>0.000000e+00</td>\n",
              "      <td>0.0</td>\n",
              "      <td>0.00000</td>\n",
              "    </tr>\n",
              "    <tr>\n",
              "      <th>25%</th>\n",
              "      <td>23.000000</td>\n",
              "      <td>0.0</td>\n",
              "      <td>31.000000</td>\n",
              "      <td>9.000000</td>\n",
              "      <td>0.000000</td>\n",
              "      <td>36.000000</td>\n",
              "      <td>12.000000</td>\n",
              "      <td>0.000000</td>\n",
              "      <td>0.0</td>\n",
              "      <td>2.700000e+02</td>\n",
              "      <td>0.0</td>\n",
              "      <td>0.00000</td>\n",
              "    </tr>\n",
              "    <tr>\n",
              "      <th>50%</th>\n",
              "      <td>33.000000</td>\n",
              "      <td>0.0</td>\n",
              "      <td>31.000000</td>\n",
              "      <td>12.000000</td>\n",
              "      <td>0.000000</td>\n",
              "      <td>120.000000</td>\n",
              "      <td>24.000000</td>\n",
              "      <td>0.000000</td>\n",
              "      <td>0.0</td>\n",
              "      <td>4.000000e+02</td>\n",
              "      <td>0.0</td>\n",
              "      <td>0.00000</td>\n",
              "    </tr>\n",
              "    <tr>\n",
              "      <th>75%</th>\n",
              "      <td>43.000000</td>\n",
              "      <td>0.0</td>\n",
              "      <td>31.000000</td>\n",
              "      <td>20.000000</td>\n",
              "      <td>0.000000</td>\n",
              "      <td>240.000000</td>\n",
              "      <td>60.000000</td>\n",
              "      <td>0.000000</td>\n",
              "      <td>0.0</td>\n",
              "      <td>7.380000e+02</td>\n",
              "      <td>0.0</td>\n",
              "      <td>0.00000</td>\n",
              "    </tr>\n",
              "    <tr>\n",
              "      <th>max</th>\n",
              "      <td>88.000000</td>\n",
              "      <td>0.0</td>\n",
              "      <td>70.000000</td>\n",
              "      <td>28.000000</td>\n",
              "      <td>3.000000</td>\n",
              "      <td>1188.000000</td>\n",
              "      <td>1176.000000</td>\n",
              "      <td>70000.000000</td>\n",
              "      <td>0.0</td>\n",
              "      <td>3.852910e+07</td>\n",
              "      <td>0.0</td>\n",
              "      <td>1.00000</td>\n",
              "    </tr>\n",
              "  </tbody>\n",
              "</table>\n",
              "</div>"
            ],
            "text/plain": [
              "                age  numberOfDependents  ...  codeApplicationBooth          BAD\n",
              "count  39997.000000             39997.0  ...               39997.0  39997.00000\n",
              "mean      34.649349                 0.0  ...                   0.0      0.19749\n",
              "std       13.076486                 0.0  ...                   0.0      0.39811\n",
              "min       15.000000                 0.0  ...                   0.0      0.00000\n",
              "25%       23.000000                 0.0  ...                   0.0      0.00000\n",
              "50%       33.000000                 0.0  ...                   0.0      0.00000\n",
              "75%       43.000000                 0.0  ...                   0.0      0.00000\n",
              "max       88.000000                 0.0  ...                   0.0      1.00000\n",
              "\n",
              "[8 rows x 12 columns]"
            ]
          },
          "metadata": {},
          "execution_count": 18
        }
      ]
    },
    {
      "cell_type": "markdown",
      "metadata": {
        "id": "NDQbH7Wc1Lfk"
      },
      "source": [
        "Verificando por meio das variáveis quantitativas, as colunas:\n",
        "1. numberOfDependents\n",
        "2. quantityBankingAccounts\n",
        "3. codeApplicationBooth\n",
        "\n",
        "Todas elas possuem valores nulos, ou seja, que não seriam relevantes para análise do nosso modelo"
      ]
    },
    {
      "cell_type": "code",
      "metadata": {
        "id": "rCvEXY3maqzj"
      },
      "source": [
        "clear_data = clear_data.drop(['numberOfDependents', 'quantityBankingAccounts', 'codeApplicationBooth'],axis=1)"
      ],
      "execution_count": null,
      "outputs": []
    },
    {
      "cell_type": "code",
      "metadata": {
        "colab": {
          "base_uri": "https://localhost:8080/"
        },
        "id": "ieeW0cfgm1Xf",
        "outputId": "add6c898-0109-4b99-b1fe-af7274186f5a"
      },
      "source": [
        "clear_data['shopRank'].value_counts()"
      ],
      "execution_count": null,
      "outputs": [
        {
          "output_type": "execute_result",
          "data": {
            "text/plain": [
              "0    39767\n",
              "3      178\n",
              "2       52\n",
              "Name: shopRank, dtype: int64"
            ]
          },
          "metadata": {},
          "execution_count": 20
        }
      ]
    },
    {
      "cell_type": "code",
      "metadata": {
        "colab": {
          "base_uri": "https://localhost:8080/"
        },
        "id": "sScgeztUnxLd",
        "outputId": "25656a1f-f0cd-438f-bf5c-e46033440890"
      },
      "source": [
        "clear_data_mate_income = clear_data['mateIncome']\n",
        "array = clear_data_mate_income[(clear_data_mate_income > 0.0)].unique()\n",
        "len(array)"
      ],
      "execution_count": null,
      "outputs": [
        {
          "output_type": "execute_result",
          "data": {
            "text/plain": [
              "560"
            ]
          },
          "metadata": {},
          "execution_count": 21
        }
      ]
    },
    {
      "cell_type": "code",
      "metadata": {
        "colab": {
          "base_uri": "https://localhost:8080/"
        },
        "id": "dqF6ugScpKVx",
        "outputId": "de18b070-e6cd-4e06-83a9-57ce78c4fa4c"
      },
      "source": [
        "dataset_mateInc_Bad = clear_data[['mateIncome', 'BAD']]\n",
        "dataset_mateInc_Bad[(dataset_mateInc_Bad['BAD'] > 0.0)].value_counts()\n"
      ],
      "execution_count": null,
      "outputs": [
        {
          "output_type": "execute_result",
          "data": {
            "text/plain": [
              "mateIncome  BAD\n",
              "0.0         1      7742\n",
              "600.0       1        11\n",
              "700.0       1         9\n",
              "800.0       1         9\n",
              "500.0       1         8\n",
              "                   ... \n",
              "3649.0      1         1\n",
              "610.0       1         1\n",
              "603.0       1         1\n",
              "596.0       1         1\n",
              "616.0       1         1\n",
              "Length: 80, dtype: int64"
            ]
          },
          "metadata": {},
          "execution_count": 22
        }
      ]
    },
    {
      "cell_type": "markdown",
      "metadata": {
        "id": "UcUrZM1cm9E-"
      },
      "source": [
        "Verificando mais afundo a coluna __ShopRank__ percebi que a quantidade de valores superiores a 0 é bem pequena, então, também irei desconsiderar da minha análise. Também pude perceber apenas 78 casos de inadimplentes possuiam algum tipo de complemento da renda, o que representa 2% dos casos de inadimplência, e que a grande maioria dos inadimplentes não possuíam renda complementar."
      ]
    },
    {
      "cell_type": "code",
      "metadata": {
        "id": "t5cmedUenj8z"
      },
      "source": [
        "clear_data = clear_data.drop(['shopRank', 'mateIncome'], axis=1)"
      ],
      "execution_count": null,
      "outputs": []
    },
    {
      "cell_type": "markdown",
      "metadata": {
        "id": "vBe500MEJQVb"
      },
      "source": [
        "Analisando o código de área para ver se há alguma relação na a inadimplência dos clientes"
      ]
    },
    {
      "cell_type": "code",
      "metadata": {
        "colab": {
          "base_uri": "https://localhost:8080/"
        },
        "id": "kSFLox1zJYaa",
        "outputId": "2f288cc6-1ec4-4564-8b0a-45c626f8f0f2"
      },
      "source": [
        "dataset_area_code = dados[['areaCodeResidencialPhone', 'BAD']]\n",
        "print(\"Quantidade por DDD\")\n",
        "print(dataset_area_code[(dataset_area_code['BAD']==1)].value_counts())\n",
        "print(\"=\"*30)\n",
        "print(\"Quantidade total de inadimplentes\")\n",
        "print(dataset_area_code[(dataset_area_code['BAD']==1)].count())"
      ],
      "execution_count": null,
      "outputs": [
        {
          "output_type": "stream",
          "name": "stdout",
          "text": [
            "Quantidade por DDD\n",
            "areaCodeResidencialPhone  BAD\n",
            "31                        1      5267\n",
            "50                        1      2223\n",
            "5                         1       264\n",
            "23                        1       104\n",
            "24                        1         9\n",
            "38                        1         4\n",
            "32                        1         3\n",
            "27                        1         2\n",
            "68                        1         2\n",
            "49                        1         2\n",
            "52                        1         2\n",
            "56                        1         2\n",
            "7                         1         1\n",
            "9                         1         1\n",
            "11                        1         1\n",
            "12                        1         1\n",
            "14                        1         1\n",
            "21                        1         1\n",
            "42                        1         1\n",
            "40                        1         1\n",
            "25                        1         1\n",
            "48                        1         1\n",
            "47                        1         1\n",
            "63                        1         1\n",
            "34                        1         1\n",
            "35                        1         1\n",
            "43                        1         1\n",
            "2                         1         1\n",
            "dtype: int64\n",
            "==============================\n",
            "Quantidade total de inadimplentes\n",
            "areaCodeResidencialPhone    7900\n",
            "BAD                         7900\n",
            "dtype: int64\n"
          ]
        }
      ]
    },
    {
      "cell_type": "markdown",
      "metadata": {
        "id": "-TBgtmhkLfbP"
      },
      "source": [
        "Há alguns códigos de área que não existem na realidade como DDD's inferiores a 2 dígitos ou DDD's inutilizados como o DDD 50.Incialmente havia pensado em remover esses DDD's incongruentes da realidade. Porém, se perde de 1.970 linhas, para DDD's abaixo do 10 e exceto o 50, e , 2223 linhas com DDD 50. O que é uma quantidade considerável para a base de clientes mal pagadores. Sendo assim, irei permanecer com estes códigos de DDD sem remover nada. Uma vez que entendo isso como uma forma de classificação regional dos clientes."
      ]
    },
    {
      "cell_type": "code",
      "metadata": {
        "colab": {
          "base_uri": "https://localhost:8080/"
        },
        "id": "EAzVHLjKMprH",
        "outputId": "507391e8-8920-43a5-a82f-104d5afd99ed"
      },
      "source": [
        "dataset_area_code[(dataset_area_code['areaCodeResidencialPhone'] < 10) | (dataset_area_code['areaCodeResidencialPhone'] == 20)  | (dataset_area_code['areaCodeResidencialPhone'] == 30)  | (dataset_area_code['areaCodeResidencialPhone'] == 40) | (dataset_area_code['areaCodeResidencialPhone'] == 60) | (dataset_area_code['areaCodeResidencialPhone'] == 70) | (dataset_area_code['areaCodeResidencialPhone'] == 80) | (dataset_area_code['areaCodeResidencialPhone'] == 90)].count()"
      ],
      "execution_count": null,
      "outputs": [
        {
          "output_type": "execute_result",
          "data": {
            "text/plain": [
              "areaCodeResidencialPhone    1970\n",
              "BAD                         1970\n",
              "dtype: int64"
            ]
          },
          "metadata": {},
          "execution_count": 25
        }
      ]
    },
    {
      "cell_type": "code",
      "metadata": {
        "colab": {
          "base_uri": "https://localhost:8080/"
        },
        "id": "wTRXnbqjJ9KG",
        "outputId": "749be7ab-807a-4ce3-e688-f1705b4e4238"
      },
      "source": [
        "clear_data.shape"
      ],
      "execution_count": null,
      "outputs": [
        {
          "output_type": "execute_result",
          "data": {
            "text/plain": [
              "(39997, 12)"
            ]
          },
          "metadata": {},
          "execution_count": 26
        }
      ]
    },
    {
      "cell_type": "code",
      "metadata": {
        "colab": {
          "base_uri": "https://localhost:8080/",
          "height": 222
        },
        "id": "r_NyzMjwbALw",
        "outputId": "f9b0c1e2-2fc8-4c6c-d317-9d5bb2f00285"
      },
      "source": [
        "clear_data.head()"
      ],
      "execution_count": null,
      "outputs": [
        {
          "output_type": "execute_result",
          "data": {
            "text/html": [
              "<div>\n",
              "<style scoped>\n",
              "    .dataframe tbody tr th:only-of-type {\n",
              "        vertical-align: middle;\n",
              "    }\n",
              "\n",
              "    .dataframe tbody tr th {\n",
              "        vertical-align: top;\n",
              "    }\n",
              "\n",
              "    .dataframe thead th {\n",
              "        text-align: right;\n",
              "    }\n",
              "</style>\n",
              "<table border=\"1\" class=\"dataframe\">\n",
              "  <thead>\n",
              "    <tr style=\"text-align: right;\">\n",
              "      <th></th>\n",
              "      <th>gender</th>\n",
              "      <th>maritalStatus</th>\n",
              "      <th>age</th>\n",
              "      <th>flagResidencialPhone</th>\n",
              "      <th>areaCodeResidencialPhone</th>\n",
              "      <th>bestPaymentDay</th>\n",
              "      <th>residenceType</th>\n",
              "      <th>monthsInResidence</th>\n",
              "      <th>flagResidenceTown_WorkingTown</th>\n",
              "      <th>monthsInTheJob</th>\n",
              "      <th>personalNetIncome</th>\n",
              "      <th>BAD</th>\n",
              "    </tr>\n",
              "  </thead>\n",
              "  <tbody>\n",
              "    <tr>\n",
              "      <th>0</th>\n",
              "      <td>F</td>\n",
              "      <td>S</td>\n",
              "      <td>18</td>\n",
              "      <td>Y</td>\n",
              "      <td>31</td>\n",
              "      <td>20</td>\n",
              "      <td>P</td>\n",
              "      <td>216</td>\n",
              "      <td>Y</td>\n",
              "      <td>12</td>\n",
              "      <td>300.0</td>\n",
              "      <td>0</td>\n",
              "    </tr>\n",
              "    <tr>\n",
              "      <th>1</th>\n",
              "      <td>F</td>\n",
              "      <td>C</td>\n",
              "      <td>47</td>\n",
              "      <td>N</td>\n",
              "      <td>31</td>\n",
              "      <td>25</td>\n",
              "      <td>P</td>\n",
              "      <td>180</td>\n",
              "      <td>N</td>\n",
              "      <td>24</td>\n",
              "      <td>304.0</td>\n",
              "      <td>0</td>\n",
              "    </tr>\n",
              "    <tr>\n",
              "      <th>2</th>\n",
              "      <td>F</td>\n",
              "      <td>S</td>\n",
              "      <td>28</td>\n",
              "      <td>Y</td>\n",
              "      <td>31</td>\n",
              "      <td>25</td>\n",
              "      <td>O</td>\n",
              "      <td>12</td>\n",
              "      <td>Y</td>\n",
              "      <td>12</td>\n",
              "      <td>250.0</td>\n",
              "      <td>0</td>\n",
              "    </tr>\n",
              "    <tr>\n",
              "      <th>3</th>\n",
              "      <td>M</td>\n",
              "      <td>S</td>\n",
              "      <td>26</td>\n",
              "      <td>N</td>\n",
              "      <td>31</td>\n",
              "      <td>28</td>\n",
              "      <td>P</td>\n",
              "      <td>180</td>\n",
              "      <td>N</td>\n",
              "      <td>0</td>\n",
              "      <td>800.0</td>\n",
              "      <td>0</td>\n",
              "    </tr>\n",
              "    <tr>\n",
              "      <th>4</th>\n",
              "      <td>F</td>\n",
              "      <td>S</td>\n",
              "      <td>22</td>\n",
              "      <td>Y</td>\n",
              "      <td>31</td>\n",
              "      <td>12</td>\n",
              "      <td>A</td>\n",
              "      <td>0</td>\n",
              "      <td>Y</td>\n",
              "      <td>48</td>\n",
              "      <td>410.0</td>\n",
              "      <td>0</td>\n",
              "    </tr>\n",
              "  </tbody>\n",
              "</table>\n",
              "</div>"
            ],
            "text/plain": [
              "  gender maritalStatus  age  ... monthsInTheJob  personalNetIncome  BAD\n",
              "0      F             S   18  ...             12              300.0    0\n",
              "1      F             C   47  ...             24              304.0    0\n",
              "2      F             S   28  ...             12              250.0    0\n",
              "3      M             S   26  ...              0              800.0    0\n",
              "4      F             S   22  ...             48              410.0    0\n",
              "\n",
              "[5 rows x 12 columns]"
            ]
          },
          "metadata": {},
          "execution_count": 27
        }
      ]
    },
    {
      "cell_type": "markdown",
      "metadata": {
        "id": "06_OyC0gp5Kw"
      },
      "source": [
        "# 2. Análise Exploratória"
      ]
    },
    {
      "cell_type": "markdown",
      "metadata": {
        "id": "uLGEcp1aUlwm"
      },
      "source": [
        "### Esboçando em formas de gráficos"
      ]
    },
    {
      "cell_type": "code",
      "metadata": {
        "colab": {
          "base_uri": "https://localhost:8080/",
          "height": 628
        },
        "id": "u5LPIDQop8D7",
        "outputId": "7c4331f5-1d07-4ca1-eeeb-8ca94449d366"
      },
      "source": [
        "plt.figure(figsize=(10,8))\n",
        "sns.heatmap(clear_data.corr(method='pearson'), annot=True)"
      ],
      "execution_count": null,
      "outputs": [
        {
          "output_type": "execute_result",
          "data": {
            "text/plain": [
              "<matplotlib.axes._subplots.AxesSubplot at 0x7ffb4fe571d0>"
            ]
          },
          "metadata": {},
          "execution_count": 28
        },
        {
          "output_type": "display_data",
          "data": {
            "image/png": "[encoded data removed]",
            "text/plain": [
              "<Figure size 720x576 with 2 Axes>"
            ]
          },
          "metadata": {
            "needs_background": "light"
          }
        }
      ]
    },
    {
      "cell_type": "markdown",
      "metadata": {
        "id": "HyZQt7Va9rqh"
      },
      "source": [
        "Configurando as funções que utilizerei para visualizar os dados"
      ]
    },
    {
      "cell_type": "code",
      "metadata": {
        "id": "bZFCsQ369l4G"
      },
      "source": [
        "def limites(coluna):\n",
        "  q1 = coluna.quantile(0.25)\n",
        "  q3 = coluna.quantile(0.75)\n",
        "  amplitude = q3 - q1\n",
        "  return q1 - 1.5*amplitude, q3 + 1.5*amplitude"
      ],
      "execution_count": null,
      "outputs": []
    },
    {
      "cell_type": "code",
      "metadata": {
        "id": "pqARPrcp9zh8"
      },
      "source": [
        "def diagrama_caixa(coluna):\n",
        "  fig, (ax1,ax2) = plt.subplots(1,2)\n",
        "  fig.set_size_inches(15,5)\n",
        "  sns.boxplot(x=coluna, ax=ax1)\n",
        "  ax2.set_xlim(limites(coluna))\n",
        "  sns.boxplot(x=coluna, ax=ax2)"
      ],
      "execution_count": null,
      "outputs": []
    },
    {
      "cell_type": "code",
      "metadata": {
        "id": "dp_9cpgx92vN"
      },
      "source": [
        "def histograma(coluna):\n",
        "  plt.figure(figsize=(15,5))\n",
        "  sns.distplot(coluna, hist=True)"
      ],
      "execution_count": null,
      "outputs": []
    },
    {
      "cell_type": "code",
      "metadata": {
        "id": "7TEIDFAc95fo"
      },
      "source": [
        "def grafico_barras(coluna):\n",
        "  plt.figure(figsize=(15,5))\n",
        "  plt.xticks(rotation = 90)\n",
        "  ax = sns.barplot(x = coluna.value_counts().index, y=coluna.value_counts())\n",
        "  ax.set_xlim(limites(coluna))"
      ],
      "execution_count": null,
      "outputs": []
    },
    {
      "cell_type": "code",
      "metadata": {
        "id": "JbWV0FrO98W6"
      },
      "source": [
        "def excluir_outliers(coluna, df):\n",
        "  quantidade_linhas = df.shape[0]\n",
        "  limite_inferior, limite_superior = limites(df[coluna])\n",
        "  df = df.loc[(df[coluna] >= limite_inferior) & (df[coluna]<= limite_superior),:]\n",
        "  linhas_removidas = quantidade_linhas - df.shape[0]\n",
        "  return df, linhas_removidas"
      ],
      "execution_count": null,
      "outputs": []
    },
    {
      "cell_type": "code",
      "metadata": {
        "id": "k0WT9vHSCihs"
      },
      "source": [
        "dataset = clear_data.copy()"
      ],
      "execution_count": null,
      "outputs": []
    },
    {
      "cell_type": "code",
      "metadata": {
        "colab": {
          "base_uri": "https://localhost:8080/"
        },
        "id": "mjQZ3jgqK7ck",
        "outputId": "a00234fa-f782-436d-a7b8-215dc6f38688"
      },
      "source": [
        "dataset['BAD'].value_counts()"
      ],
      "execution_count": null,
      "outputs": [
        {
          "output_type": "execute_result",
          "data": {
            "text/plain": [
              "0    32098\n",
              "1     7899\n",
              "Name: BAD, dtype: int64"
            ]
          },
          "metadata": {},
          "execution_count": 35
        }
      ]
    },
    {
      "cell_type": "markdown",
      "metadata": {
        "id": "YI_RVcp1-CRx"
      },
      "source": [
        "#### Removendo os outiliers das variáveis quantitativas"
      ]
    },
    {
      "cell_type": "markdown",
      "metadata": {
        "id": "CC9VdDX2C6dA"
      },
      "source": [
        "### Analisando a variável continua"
      ]
    },
    {
      "cell_type": "code",
      "metadata": {
        "colab": {
          "base_uri": "https://localhost:8080/"
        },
        "id": "ZOlN5uVBBOv3",
        "outputId": "b4710e0c-b996-49b5-c092-0831550563ad"
      },
      "source": [
        "dataset['personalNetIncome'].value_counts()\n",
        "limites(dataset['personalNetIncome'])"
      ],
      "execution_count": null,
      "outputs": [
        {
          "output_type": "execute_result",
          "data": {
            "text/plain": [
              "(-432.0, 1440.0)"
            ]
          },
          "metadata": {},
          "execution_count": 36
        }
      ]
    },
    {
      "cell_type": "code",
      "metadata": {
        "colab": {
          "base_uri": "https://localhost:8080/",
          "height": 434
        },
        "id": "nriE7G05DzCK",
        "outputId": "806f4f03-51fb-4ebf-d445-37bf33d30e4d"
      },
      "source": [
        "dataset.loc[dataset['personalNetIncome'] > 1447.5]"
      ],
      "execution_count": null,
      "outputs": [
        {
          "output_type": "execute_result",
          "data": {
            "text/html": [
              "<div>\n",
              "<style scoped>\n",
              "    .dataframe tbody tr th:only-of-type {\n",
              "        vertical-align: middle;\n",
              "    }\n",
              "\n",
              "    .dataframe tbody tr th {\n",
              "        vertical-align: top;\n",
              "    }\n",
              "\n",
              "    .dataframe thead th {\n",
              "        text-align: right;\n",
              "    }\n",
              "</style>\n",
              "<table border=\"1\" class=\"dataframe\">\n",
              "  <thead>\n",
              "    <tr style=\"text-align: right;\">\n",
              "      <th></th>\n",
              "      <th>gender</th>\n",
              "      <th>maritalStatus</th>\n",
              "      <th>age</th>\n",
              "      <th>flagResidencialPhone</th>\n",
              "      <th>areaCodeResidencialPhone</th>\n",
              "      <th>bestPaymentDay</th>\n",
              "      <th>residenceType</th>\n",
              "      <th>monthsInResidence</th>\n",
              "      <th>flagResidenceTown_WorkingTown</th>\n",
              "      <th>monthsInTheJob</th>\n",
              "      <th>personalNetIncome</th>\n",
              "      <th>BAD</th>\n",
              "    </tr>\n",
              "  </thead>\n",
              "  <tbody>\n",
              "    <tr>\n",
              "      <th>10</th>\n",
              "      <td>M</td>\n",
              "      <td>C</td>\n",
              "      <td>36</td>\n",
              "      <td>Y</td>\n",
              "      <td>31</td>\n",
              "      <td>12</td>\n",
              "      <td>P</td>\n",
              "      <td>120</td>\n",
              "      <td>Y</td>\n",
              "      <td>36</td>\n",
              "      <td>1987.0</td>\n",
              "      <td>0</td>\n",
              "    </tr>\n",
              "    <tr>\n",
              "      <th>19</th>\n",
              "      <td>F</td>\n",
              "      <td>S</td>\n",
              "      <td>46</td>\n",
              "      <td>Y</td>\n",
              "      <td>31</td>\n",
              "      <td>8</td>\n",
              "      <td>A</td>\n",
              "      <td>48</td>\n",
              "      <td>Y</td>\n",
              "      <td>192</td>\n",
              "      <td>3100.0</td>\n",
              "      <td>0</td>\n",
              "    </tr>\n",
              "    <tr>\n",
              "      <th>38</th>\n",
              "      <td>M</td>\n",
              "      <td>D</td>\n",
              "      <td>26</td>\n",
              "      <td>N</td>\n",
              "      <td>31</td>\n",
              "      <td>12</td>\n",
              "      <td>P</td>\n",
              "      <td>120</td>\n",
              "      <td>Y</td>\n",
              "      <td>0</td>\n",
              "      <td>2701.0</td>\n",
              "      <td>0</td>\n",
              "    </tr>\n",
              "    <tr>\n",
              "      <th>54</th>\n",
              "      <td>F</td>\n",
              "      <td>C</td>\n",
              "      <td>32</td>\n",
              "      <td>Y</td>\n",
              "      <td>31</td>\n",
              "      <td>1</td>\n",
              "      <td>P</td>\n",
              "      <td>96</td>\n",
              "      <td>Y</td>\n",
              "      <td>24</td>\n",
              "      <td>1805.0</td>\n",
              "      <td>0</td>\n",
              "    </tr>\n",
              "    <tr>\n",
              "      <th>60</th>\n",
              "      <td>F</td>\n",
              "      <td>C</td>\n",
              "      <td>75</td>\n",
              "      <td>Y</td>\n",
              "      <td>31</td>\n",
              "      <td>8</td>\n",
              "      <td>P</td>\n",
              "      <td>48</td>\n",
              "      <td>N</td>\n",
              "      <td>0</td>\n",
              "      <td>3900.0</td>\n",
              "      <td>0</td>\n",
              "    </tr>\n",
              "    <tr>\n",
              "      <th>...</th>\n",
              "      <td>...</td>\n",
              "      <td>...</td>\n",
              "      <td>...</td>\n",
              "      <td>...</td>\n",
              "      <td>...</td>\n",
              "      <td>...</td>\n",
              "      <td>...</td>\n",
              "      <td>...</td>\n",
              "      <td>...</td>\n",
              "      <td>...</td>\n",
              "      <td>...</td>\n",
              "      <td>...</td>\n",
              "    </tr>\n",
              "    <tr>\n",
              "      <th>39899</th>\n",
              "      <td>M</td>\n",
              "      <td>C</td>\n",
              "      <td>47</td>\n",
              "      <td>N</td>\n",
              "      <td>50</td>\n",
              "      <td>28</td>\n",
              "      <td>P</td>\n",
              "      <td>216</td>\n",
              "      <td>N</td>\n",
              "      <td>216</td>\n",
              "      <td>1500.0</td>\n",
              "      <td>1</td>\n",
              "    </tr>\n",
              "    <tr>\n",
              "      <th>39925</th>\n",
              "      <td>M</td>\n",
              "      <td>C</td>\n",
              "      <td>54</td>\n",
              "      <td>Y</td>\n",
              "      <td>31</td>\n",
              "      <td>3</td>\n",
              "      <td>P</td>\n",
              "      <td>240</td>\n",
              "      <td>N</td>\n",
              "      <td>0</td>\n",
              "      <td>7158.0</td>\n",
              "      <td>0</td>\n",
              "    </tr>\n",
              "    <tr>\n",
              "      <th>39933</th>\n",
              "      <td>F</td>\n",
              "      <td>C</td>\n",
              "      <td>48</td>\n",
              "      <td>Y</td>\n",
              "      <td>31</td>\n",
              "      <td>8</td>\n",
              "      <td>P</td>\n",
              "      <td>576</td>\n",
              "      <td>N</td>\n",
              "      <td>72</td>\n",
              "      <td>2000.0</td>\n",
              "      <td>0</td>\n",
              "    </tr>\n",
              "    <tr>\n",
              "      <th>39943</th>\n",
              "      <td>F</td>\n",
              "      <td>D</td>\n",
              "      <td>41</td>\n",
              "      <td>Y</td>\n",
              "      <td>5</td>\n",
              "      <td>25</td>\n",
              "      <td>P</td>\n",
              "      <td>12</td>\n",
              "      <td>Y</td>\n",
              "      <td>12</td>\n",
              "      <td>1500.0</td>\n",
              "      <td>0</td>\n",
              "    </tr>\n",
              "    <tr>\n",
              "      <th>39992</th>\n",
              "      <td>M</td>\n",
              "      <td>C</td>\n",
              "      <td>43</td>\n",
              "      <td>Y</td>\n",
              "      <td>31</td>\n",
              "      <td>28</td>\n",
              "      <td>P</td>\n",
              "      <td>108</td>\n",
              "      <td>N</td>\n",
              "      <td>144</td>\n",
              "      <td>3500.0</td>\n",
              "      <td>1</td>\n",
              "    </tr>\n",
              "  </tbody>\n",
              "</table>\n",
              "<p>3139 rows × 12 columns</p>\n",
              "</div>"
            ],
            "text/plain": [
              "      gender maritalStatus  age  ... monthsInTheJob  personalNetIncome  BAD\n",
              "10         M             C   36  ...             36             1987.0    0\n",
              "19         F             S   46  ...            192             3100.0    0\n",
              "38         M             D   26  ...              0             2701.0    0\n",
              "54         F             C   32  ...             24             1805.0    0\n",
              "60         F             C   75  ...              0             3900.0    0\n",
              "...      ...           ...  ...  ...            ...                ...  ...\n",
              "39899      M             C   47  ...            216             1500.0    1\n",
              "39925      M             C   54  ...              0             7158.0    0\n",
              "39933      F             C   48  ...             72             2000.0    0\n",
              "39943      F             D   41  ...             12             1500.0    0\n",
              "39992      M             C   43  ...            144             3500.0    1\n",
              "\n",
              "[3139 rows x 12 columns]"
            ]
          },
          "metadata": {},
          "execution_count": 37
        }
      ]
    },
    {
      "cell_type": "code",
      "metadata": {
        "colab": {
          "base_uri": "https://localhost:8080/",
          "height": 715
        },
        "id": "M1vG9aLZAz27",
        "outputId": "e1b608a4-3c38-4c18-c6f2-913293fd21fa"
      },
      "source": [
        "diagrama_caixa(clear_data['personalNetIncome'])\n",
        "histograma(clear_data['personalNetIncome'])"
      ],
      "execution_count": null,
      "outputs": [
        {
          "output_type": "stream",
          "name": "stderr",
          "text": [
            "/usr/local/lib/python3.7/dist-packages/seaborn/distributions.py:2619: FutureWarning: `distplot` is a deprecated function and will be removed in a future version. Please adapt your code to use either `displot` (a figure-level function with similar flexibility) or `histplot` (an axes-level function for histograms).\n",
            "  warnings.warn(msg, FutureWarning)\n"
          ]
        },
        {
          "output_type": "display_data",
          "data": {
            "image/png": "[encoded data removed]",
            "text/plain": [
              "<Figure size 1080x360 with 2 Axes>"
            ]
          },
          "metadata": {
            "needs_background": "light"
          }
        },
        {
          "output_type": "display_data",
          "data": {
            "image/png": "[encoded data removed]",
            "text/plain": [
              "<Figure size 1080x360 with 1 Axes>"
            ]
          },
          "metadata": {
            "needs_background": "light"
          }
        }
      ]
    },
    {
      "cell_type": "code",
      "metadata": {
        "colab": {
          "base_uri": "https://localhost:8080/"
        },
        "id": "9jl-jjJ7Ixxb",
        "outputId": "f1c7a29c-f431-4ed2-cbd7-6eef6af7f47a"
      },
      "source": [
        "dataset_personalIncome_Bad = dataset[['personalNetIncome','BAD']]\n",
        "dataset_personalIncome_Bad.loc[(dataset_personalIncome_Bad['BAD']==1) & (dataset_personalIncome_Bad['personalNetIncome']>1476.5)].count()"
      ],
      "execution_count": null,
      "outputs": [
        {
          "output_type": "execute_result",
          "data": {
            "text/plain": [
              "personalNetIncome    392\n",
              "BAD                  392\n",
              "dtype: int64"
            ]
          },
          "metadata": {},
          "execution_count": 39
        }
      ]
    },
    {
      "cell_type": "markdown",
      "metadata": {
        "id": "r83DSatHDda6"
      },
      "source": [
        "Pensando no contexto de crédito para o público que geralmente recorre a Mutual, acredito que retirar os Outilieres faça mais sentido, pois, o modelo conseguirá ser mais preciso para o público mais presente na base de dados da Mutual.\n",
        "\n",
        "Além disso, os valores de __personalNetIncome__ maiores que R$ 1.476,50 representam mais de 3 mil linhas das 40 mil linhas ainda presentes no dataset. Sendo que, 392 dessas linhas representam um cliente inadimplente e que possuem uma renda superior a 1.476,50 Reais."
      ]
    },
    {
      "cell_type": "code",
      "metadata": {
        "colab": {
          "base_uri": "https://localhost:8080/"
        },
        "id": "RN5UbHmjGFwH",
        "outputId": "a0d3349a-7ac8-4b1f-c2c2-a58472abc78d"
      },
      "source": [
        "dataset, linhas_removidas= excluir_outliers(coluna='personalNetIncome', df=dataset)\n",
        "print(f\"Foram removidas um total de {linhas_removidas} linhas\")"
      ],
      "execution_count": null,
      "outputs": [
        {
          "output_type": "stream",
          "name": "stdout",
          "text": [
            "Foram removidas um total de 3156 linhas\n"
          ]
        }
      ]
    },
    {
      "cell_type": "code",
      "metadata": {
        "colab": {
          "base_uri": "https://localhost:8080/"
        },
        "id": "a-UtugI3QT-S",
        "outputId": "94f31e04-59ae-4549-cf72-38b0ced33e41"
      },
      "source": [
        "dataset['BAD'].value_counts()"
      ],
      "execution_count": null,
      "outputs": [
        {
          "output_type": "execute_result",
          "data": {
            "text/plain": [
              "0    29341\n",
              "1     7500\n",
              "Name: BAD, dtype: int64"
            ]
          },
          "metadata": {},
          "execution_count": 41
        }
      ]
    },
    {
      "cell_type": "markdown",
      "metadata": {
        "id": "0QREvnC_G2PL"
      },
      "source": [
        "### Avaliando variáveis discretas"
      ]
    },
    {
      "cell_type": "code",
      "metadata": {
        "colab": {
          "base_uri": "https://localhost:8080/"
        },
        "id": "GWuOk6QmG6kK",
        "outputId": "65835287-2aef-4cc5-937c-f18e65ababb7"
      },
      "source": [
        "dataset.info()"
      ],
      "execution_count": null,
      "outputs": [
        {
          "output_type": "stream",
          "name": "stdout",
          "text": [
            "<class 'pandas.core.frame.DataFrame'>\n",
            "Int64Index: 36841 entries, 0 to 39999\n",
            "Data columns (total 12 columns):\n",
            " #   Column                         Non-Null Count  Dtype  \n",
            "---  ------                         --------------  -----  \n",
            " 0   gender                         36841 non-null  object \n",
            " 1   maritalStatus                  36841 non-null  object \n",
            " 2   age                            36841 non-null  int64  \n",
            " 3   flagResidencialPhone           36841 non-null  object \n",
            " 4   areaCodeResidencialPhone       36841 non-null  int64  \n",
            " 5   bestPaymentDay                 36841 non-null  int64  \n",
            " 6   residenceType                  36841 non-null  object \n",
            " 7   monthsInResidence              36841 non-null  int64  \n",
            " 8   flagResidenceTown_WorkingTown  36841 non-null  object \n",
            " 9   monthsInTheJob                 36841 non-null  int64  \n",
            " 10  personalNetIncome              36841 non-null  float64\n",
            " 11  BAD                            36841 non-null  int64  \n",
            "dtypes: float64(1), int64(6), object(5)\n",
            "memory usage: 3.7+ MB\n"
          ]
        }
      ]
    },
    {
      "cell_type": "code",
      "metadata": {
        "colab": {
          "base_uri": "https://localhost:8080/",
          "height": 638
        },
        "id": "70NroA4iIVE6",
        "outputId": "c0601852-de55-4dc3-89fe-051becdb637a"
      },
      "source": [
        "diagrama_caixa(dataset['age'])\n",
        "grafico_barras(dataset['age'])"
      ],
      "execution_count": null,
      "outputs": [
        {
          "output_type": "display_data",
          "data": {
            "image/png": "[encoded data removed]",
            "text/plain": [
              "<Figure size 1080x360 with 2 Axes>"
            ]
          },
          "metadata": {
            "needs_background": "light"
          }
        },
        {
          "output_type": "display_data",
          "data": {
            "image/png": "[encoded data removed]",
            "text/plain": [
              "<Figure size 1080x360 with 1 Axes>"
            ]
          },
          "metadata": {
            "needs_background": "light"
          }
        }
      ]
    },
    {
      "cell_type": "code",
      "metadata": {
        "colab": {
          "base_uri": "https://localhost:8080/"
        },
        "id": "qZXBdlinMObn",
        "outputId": "ca4884c2-fd97-4cdb-aba3-3ed8fc5fedf4"
      },
      "source": [
        "limites(dataset['age'])"
      ],
      "execution_count": null,
      "outputs": [
        {
          "output_type": "execute_result",
          "data": {
            "text/plain": [
              "(-5.5, 70.5)"
            ]
          },
          "metadata": {},
          "execution_count": 44
        }
      ]
    },
    {
      "cell_type": "code",
      "metadata": {
        "id": "yOJEJb47MkhQ",
        "colab": {
          "base_uri": "https://localhost:8080/"
        },
        "outputId": "e7953b34-4050-423e-fe57-6a5829eb10aa"
      },
      "source": [
        "dataset_age_bad = dataset[['age', 'BAD']]\n",
        "dataset_age_bad.loc[(dataset_age_bad['BAD']==1) & (dataset_age_bad['age']>70)].count()"
      ],
      "execution_count": null,
      "outputs": [
        {
          "output_type": "execute_result",
          "data": {
            "text/plain": [
              "age    34\n",
              "BAD    34\n",
              "dtype: int64"
            ]
          },
          "metadata": {},
          "execution_count": 45
        }
      ]
    },
    {
      "cell_type": "markdown",
      "metadata": {
        "id": "CtfARSw6LxsC"
      },
      "source": [
        "Analisando os dados de idade é possível perceber que o público alvo está na faixa de 15 a 70 anos de idade. Sendo assim, vou excluir os outliers, até por que são 34 clientes indimplentes em uma base de mais de 7501 pessoas consideradas inadimplentes. O que reprenta 0,45% do total da base de clientes inadimplentes."
      ]
    },
    {
      "cell_type": "code",
      "metadata": {
        "id": "QAy7jOWeMhp7",
        "colab": {
          "base_uri": "https://localhost:8080/"
        },
        "outputId": "92fd2855-fac6-45dd-bde9-4d1b8f232adb"
      },
      "source": [
        "dataset, linhas_removidas = excluir_outliers(coluna='age', df=dataset)\n",
        "print(f'{linhas_removidas} linhas removidas')"
      ],
      "execution_count": null,
      "outputs": [
        {
          "output_type": "stream",
          "name": "stdout",
          "text": [
            "320 linhas removidas\n"
          ]
        }
      ]
    },
    {
      "cell_type": "code",
      "metadata": {
        "colab": {
          "base_uri": "https://localhost:8080/"
        },
        "id": "KkKjQI7qQkE3",
        "outputId": "28a17b19-330d-4ba3-e77a-7af95bda3753"
      },
      "source": [
        "dataset['BAD'].value_counts()"
      ],
      "execution_count": null,
      "outputs": [
        {
          "output_type": "execute_result",
          "data": {
            "text/plain": [
              "0    29055\n",
              "1     7466\n",
              "Name: BAD, dtype: int64"
            ]
          },
          "metadata": {},
          "execution_count": 47
        }
      ]
    },
    {
      "cell_type": "markdown",
      "metadata": {
        "id": "l4tbkdLiRBRT"
      },
      "source": [
        "Coluna areaCodeResidencialPhone"
      ]
    },
    {
      "cell_type": "code",
      "metadata": {
        "colab": {
          "base_uri": "https://localhost:8080/",
          "height": 725
        },
        "id": "CDu-w6I0Q-Wa",
        "outputId": "40eb1cee-128a-4e96-96ac-e85d0a307e74"
      },
      "source": [
        "grafico_barras(dataset['areaCodeResidencialPhone'])\n",
        "diagrama_caixa(dataset['areaCodeResidencialPhone'])"
      ],
      "execution_count": null,
      "outputs": [
        {
          "output_type": "stream",
          "name": "stderr",
          "text": [
            "/usr/local/lib/python3.7/dist-packages/ipykernel_launcher.py:5: UserWarning: Attempting to set identical left == right == 31.0 results in singular transformations; automatically expanding.\n",
            "  \"\"\"\n",
            "/usr/local/lib/python3.7/dist-packages/ipykernel_launcher.py:5: UserWarning: Attempting to set identical left == right == 31.0 results in singular transformations; automatically expanding.\n",
            "  \"\"\"\n"
          ]
        },
        {
          "output_type": "display_data",
          "data": {
            "image/png": "[encoded data removed]",
            "text/plain": [
              "<Figure size 1080x360 with 1 Axes>"
            ]
          },
          "metadata": {
            "needs_background": "light"
          }
        },
        {
          "output_type": "display_data",
          "data": {
            "image/png": "[encoded data removed]",
            "text/plain": [
              "<Figure size 1080x360 with 2 Axes>"
            ]
          },
          "metadata": {
            "needs_background": "light"
          }
        }
      ]
    },
    {
      "cell_type": "markdown",
      "metadata": {
        "id": "1BQlUXHZR2p8"
      },
      "source": [
        "Analisando esta coluna eu decidi não remover os outiliers devido ser uma coluna de caráter categórico que define inclusive a região em que o cliente pode estar morando. O que pode ser de certa forma importante para o modelo classificar. Além disso, no tratamento dos dados já havia visto que a maior parte dos cliente são de Minas gerais (DDD 31)."
      ]
    },
    {
      "cell_type": "markdown",
      "metadata": {
        "id": "OFJvHqZISW-O"
      },
      "source": [
        "Coluna bestPaymentDay"
      ]
    },
    {
      "cell_type": "code",
      "metadata": {
        "colab": {
          "base_uri": "https://localhost:8080/",
          "height": 638
        },
        "id": "Nr6eEBGJSdiX",
        "outputId": "038f2517-fe60-457a-cc5e-56d9ce402ef0"
      },
      "source": [
        "diagrama_caixa(dataset['bestPaymentDay'])\n",
        "grafico_barras(dataset['bestPaymentDay'])"
      ],
      "execution_count": null,
      "outputs": [
        {
          "output_type": "display_data",
          "data": {
            "image/png": "[encoded data removed]",
            "text/plain": [
              "<Figure size 1080x360 with 2 Axes>"
            ]
          },
          "metadata": {
            "needs_background": "light"
          }
        },
        {
          "output_type": "display_data",
          "data": {
            "image/png": "[encoded data removed]",
            "text/plain": [
              "<Figure size 1080x360 with 1 Axes>"
            ]
          },
          "metadata": {
            "needs_background": "light"
          }
        }
      ]
    },
    {
      "cell_type": "markdown",
      "metadata": {
        "id": "5HM-d7w4StV8"
      },
      "source": [
        "Analisando esta coluna pude ver que não há outlieres e que os dados estão dentro do limite calculado. E o dia mais escolhido para pagamento é o dia 12 de cada mês, seguindo do dia 8, 18 e 20."
      ]
    },
    {
      "cell_type": "markdown",
      "metadata": {
        "id": "COxr5LscTFsp"
      },
      "source": [
        "Coluna monthsInResidence"
      ]
    },
    {
      "cell_type": "code",
      "metadata": {
        "colab": {
          "base_uri": "https://localhost:8080/",
          "height": 704
        },
        "id": "NNUlpCKOTNj0",
        "outputId": "7bf23666-382a-46da-f2e9-3a151d0df5df"
      },
      "source": [
        "diagrama_caixa(dataset['monthsInResidence'])\n",
        "histograma(dataset['monthsInResidence'])"
      ],
      "execution_count": null,
      "outputs": [
        {
          "output_type": "stream",
          "name": "stderr",
          "text": [
            "/usr/local/lib/python3.7/dist-packages/seaborn/distributions.py:2619: FutureWarning: `distplot` is a deprecated function and will be removed in a future version. Please adapt your code to use either `displot` (a figure-level function with similar flexibility) or `histplot` (an axes-level function for histograms).\n",
            "  warnings.warn(msg, FutureWarning)\n"
          ]
        },
        {
          "output_type": "display_data",
          "data": {
            "image/png": "[encoded data removed]",
            "text/plain": [
              "<Figure size 1080x360 with 2 Axes>"
            ]
          },
          "metadata": {
            "needs_background": "light"
          }
        },
        {
          "output_type": "display_data",
          "data": {
            "image/png": "[encoded data removed]",
            "text/plain": [
              "<Figure size 1080x360 with 1 Axes>"
            ]
          },
          "metadata": {
            "needs_background": "light"
          }
        }
      ]
    },
    {
      "cell_type": "code",
      "metadata": {
        "colab": {
          "base_uri": "https://localhost:8080/"
        },
        "id": "bpp0vUm9TrPv",
        "outputId": "f0570e14-f588-4437-c4a1-8b6e4025e41b"
      },
      "source": [
        "limites(dataset['monthsInResidence'])"
      ],
      "execution_count": null,
      "outputs": [
        {
          "output_type": "execute_result",
          "data": {
            "text/plain": [
              "(-270.0, 546.0)"
            ]
          },
          "metadata": {},
          "execution_count": 51
        }
      ]
    },
    {
      "cell_type": "code",
      "metadata": {
        "colab": {
          "base_uri": "https://localhost:8080/"
        },
        "id": "3xdMno1oTwcE",
        "outputId": "3555423f-c06d-4782-fa88-db5d34b22720"
      },
      "source": [
        "dataset_time_residence = dataset[['BAD', 'monthsInResidence']]\n",
        "dataset_time_residence[(dataset_time_residence['BAD']==1) & (dataset_time_residence['monthsInResidence']>546)].count()"
      ],
      "execution_count": null,
      "outputs": [
        {
          "output_type": "execute_result",
          "data": {
            "text/plain": [
              "BAD                  41\n",
              "monthsInResidence    41\n",
              "dtype: int64"
            ]
          },
          "metadata": {},
          "execution_count": 52
        }
      ]
    },
    {
      "cell_type": "code",
      "metadata": {
        "colab": {
          "base_uri": "https://localhost:8080/"
        },
        "id": "Lgblw7vHMuGi",
        "outputId": "afdfdda8-394f-4bf1-ad9e-42df1761fe0c"
      },
      "source": [
        "dataset_time_residence['BAD'].value_counts()"
      ],
      "execution_count": null,
      "outputs": [
        {
          "output_type": "execute_result",
          "data": {
            "text/plain": [
              "0    29055\n",
              "1     7466\n",
              "Name: BAD, dtype: int64"
            ]
          },
          "metadata": {},
          "execution_count": 53
        }
      ]
    },
    {
      "cell_type": "markdown",
      "metadata": {
        "id": "zZ5ZwxYlUeZi"
      },
      "source": [
        "No caso dos meses de trabalho vale a pena retirar os dados considerados outliers, devido a serem um pequeno pedaço da base de clientes considerados inadimplentes. 41 clientes em cima de uma base superior a 7466 clientes."
      ]
    },
    {
      "cell_type": "code",
      "metadata": {
        "colab": {
          "base_uri": "https://localhost:8080/"
        },
        "id": "3bz1OAyZVBSJ",
        "outputId": "4ce47d58-1b22-453a-b75b-9bcc2261bebe"
      },
      "source": [
        "dataset, linhas_removidas = excluir_outliers(coluna='monthsInResidence', df=dataset)\n",
        "print(f'{linhas_removidas} linhas removidas')"
      ],
      "execution_count": null,
      "outputs": [
        {
          "output_type": "stream",
          "name": "stdout",
          "text": [
            "401 linhas removidas\n"
          ]
        }
      ]
    },
    {
      "cell_type": "code",
      "metadata": {
        "colab": {
          "base_uri": "https://localhost:8080/"
        },
        "id": "1ITHPJTKQ8nT",
        "outputId": "ea719bec-15f9-4047-ff48-6f0fd5241b1f"
      },
      "source": [
        "dataset['BAD'].value_counts()"
      ],
      "execution_count": null,
      "outputs": [
        {
          "output_type": "execute_result",
          "data": {
            "text/plain": [
              "0    28695\n",
              "1     7425\n",
              "Name: BAD, dtype: int64"
            ]
          },
          "metadata": {},
          "execution_count": 55
        }
      ]
    },
    {
      "cell_type": "markdown",
      "metadata": {
        "id": "cRr_9LuSVYR6"
      },
      "source": [
        "Coluna monthsInTheJob"
      ]
    },
    {
      "cell_type": "code",
      "metadata": {
        "colab": {
          "base_uri": "https://localhost:8080/",
          "height": 704
        },
        "id": "38QeGWo0Vgkp",
        "outputId": "7fd5a255-6e9e-42f2-f990-addad607c152"
      },
      "source": [
        "histograma(dataset['monthsInTheJob'])\n",
        "diagrama_caixa(dataset['monthsInTheJob'])"
      ],
      "execution_count": null,
      "outputs": [
        {
          "output_type": "stream",
          "name": "stderr",
          "text": [
            "/usr/local/lib/python3.7/dist-packages/seaborn/distributions.py:2619: FutureWarning: `distplot` is a deprecated function and will be removed in a future version. Please adapt your code to use either `displot` (a figure-level function with similar flexibility) or `histplot` (an axes-level function for histograms).\n",
            "  warnings.warn(msg, FutureWarning)\n"
          ]
        },
        {
          "output_type": "display_data",
          "data": {
            "image/png": "[encoded data removed]",
            "text/plain": [
              "<Figure size 1080x360 with 1 Axes>"
            ]
          },
          "metadata": {
            "needs_background": "light"
          }
        },
        {
          "output_type": "display_data",
          "data": {
            "image/png": "[encoded data removed]",
            "text/plain": [
              "<Figure size 1080x360 with 2 Axes>"
            ]
          },
          "metadata": {
            "needs_background": "light"
          }
        }
      ]
    },
    {
      "cell_type": "code",
      "metadata": {
        "colab": {
          "base_uri": "https://localhost:8080/"
        },
        "id": "noR2UNaGWDHS",
        "outputId": "78e93f69-373b-4745-8aa6-6b0caaf5722c"
      },
      "source": [
        "limites(dataset['monthsInTheJob'])"
      ],
      "execution_count": null,
      "outputs": [
        {
          "output_type": "execute_result",
          "data": {
            "text/plain": [
              "(-60.0, 132.0)"
            ]
          },
          "metadata": {},
          "execution_count": 57
        }
      ]
    },
    {
      "cell_type": "code",
      "metadata": {
        "colab": {
          "base_uri": "https://localhost:8080/"
        },
        "id": "WxOvKqkvVwl0",
        "outputId": "466d9139-e853-4bdb-dbb1-017ead0a0e9c"
      },
      "source": [
        "dataset_moths_job = dataset[['monthsInTheJob','BAD']]\n",
        "dataset_moths_job[(dataset_moths_job['BAD']==1) & (dataset_moths_job['monthsInTheJob'] >132)].count()"
      ],
      "execution_count": null,
      "outputs": [
        {
          "output_type": "execute_result",
          "data": {
            "text/plain": [
              "monthsInTheJob    399\n",
              "BAD               399\n",
              "dtype: int64"
            ]
          },
          "metadata": {},
          "execution_count": 58
        }
      ]
    },
    {
      "cell_type": "code",
      "metadata": {
        "colab": {
          "base_uri": "https://localhost:8080/"
        },
        "id": "rvIcEl9aWqLH",
        "outputId": "dec2e968-8b11-4f4a-fa78-2a70f074885a"
      },
      "source": [
        "dataset_moths_job[(dataset_moths_job['monthsInTheJob'] > 132)].count()"
      ],
      "execution_count": null,
      "outputs": [
        {
          "output_type": "execute_result",
          "data": {
            "text/plain": [
              "monthsInTheJob    3242\n",
              "BAD               3242\n",
              "dtype: int64"
            ]
          },
          "metadata": {},
          "execution_count": 59
        }
      ]
    },
    {
      "cell_type": "markdown",
      "metadata": {
        "id": "V_OtJYsIW6Yn"
      },
      "source": [
        "Nesta coluna, foi um caso sensível. E decidi por permanecer os outliers por alguns motivos. Um deles é que a quantidade de linhas a serem eliminadas ao todo para esse único caso é considerável, no caso, 3242. Além disso, diferente das colunas que os dados eliminados representavam menos de 1% da minha base de inadimplância, neste caso já representa 5% da minha base de inadimplentes."
      ]
    },
    {
      "cell_type": "markdown",
      "metadata": {
        "id": "IIIm79Wep8a1"
      },
      "source": [
        "# 3. Feature Engineering"
      ]
    },
    {
      "cell_type": "code",
      "metadata": {
        "id": "l570z23UIsUb"
      },
      "source": [
        "dataset_enconding = dataset.copy()"
      ],
      "execution_count": null,
      "outputs": []
    },
    {
      "cell_type": "code",
      "metadata": {
        "id": "S97qbKFvp_q3",
        "colab": {
          "base_uri": "https://localhost:8080/"
        },
        "outputId": "18efa938-5a4a-4857-db9a-bf0e9874b4a1"
      },
      "source": [
        "dataset_enconding.shape"
      ],
      "execution_count": null,
      "outputs": [
        {
          "output_type": "execute_result",
          "data": {
            "text/plain": [
              "(36120, 12)"
            ]
          },
          "metadata": {},
          "execution_count": 61
        }
      ]
    },
    {
      "cell_type": "code",
      "metadata": {
        "id": "8f9vr4pBRjlY"
      },
      "source": [
        "#importando as bibliotecas\n",
        "from sklearn.ensemble import RandomForestClassifier, ExtraTreesClassifier\n",
        "from xgboost import XGBClassifier\n",
        "from sklearn.linear_model import LogisticRegression\n",
        "from sklearn.preprocessing import LabelEncoder\n",
        "from sklearn.model_selection import train_test_split,StratifiedKFold\n",
        "from sklearn.metrics import confusion_matrix, classification_report, accuracy_score"
      ],
      "execution_count": null,
      "outputs": []
    },
    {
      "cell_type": "markdown",
      "metadata": {
        "id": "iMA3X2pOSjnf"
      },
      "source": [
        "Convertendo os campos considerados Objects em Numéricos"
      ]
    },
    {
      "cell_type": "code",
      "metadata": {
        "colab": {
          "base_uri": "https://localhost:8080/"
        },
        "id": "ilhwOFrISYZr",
        "outputId": "b2fca6b0-c703-4c44-f441-1bace3a65e5a"
      },
      "source": [
        "dataset_enconding.select_dtypes(include='object').columns"
      ],
      "execution_count": null,
      "outputs": [
        {
          "output_type": "execute_result",
          "data": {
            "text/plain": [
              "Index(['gender', 'maritalStatus', 'flagResidencialPhone', 'residenceType',\n",
              "       'flagResidenceTown_WorkingTown'],\n",
              "      dtype='object')"
            ]
          },
          "metadata": {},
          "execution_count": 63
        }
      ]
    },
    {
      "cell_type": "code",
      "metadata": {
        "colab": {
          "base_uri": "https://localhost:8080/"
        },
        "id": "PoRAifyAUYQW",
        "outputId": "73458445-8c7c-42c9-b008-5cf18e2b178d"
      },
      "source": [
        "dataset_enconding.shape"
      ],
      "execution_count": null,
      "outputs": [
        {
          "output_type": "execute_result",
          "data": {
            "text/plain": [
              "(36120, 12)"
            ]
          },
          "metadata": {},
          "execution_count": 64
        }
      ]
    },
    {
      "cell_type": "code",
      "metadata": {
        "id": "eNwXZJQeSQnJ"
      },
      "source": [
        "for label in ['gender', 'maritalStatus', 'flagResidencialPhone', 'residenceType','flagResidenceTown_WorkingTown']:\n",
        "  dataset_enconding[label] = LabelEncoder().fit_transform(dataset_enconding[label])"
      ],
      "execution_count": null,
      "outputs": []
    },
    {
      "cell_type": "markdown",
      "metadata": {
        "id": "349-jbgpTJlu"
      },
      "source": [
        "Separando as variaveis de entrada do algoritmo em X"
      ]
    },
    {
      "cell_type": "code",
      "metadata": {
        "id": "3FCUyZoiS4sF"
      },
      "source": [
        "X = dataset_enconding.drop('BAD', axis=1)"
      ],
      "execution_count": null,
      "outputs": []
    },
    {
      "cell_type": "markdown",
      "metadata": {
        "id": "we5AJrUMFwuY"
      },
      "source": [
        "Analisando a correlação entre as variáveis após o Enconding. Vi que as colunas __flagResidencialPhone__ e __areaCodeResidencialPhone__ tem uma correlção negativa e que no caso seria interessante realizar mais um tratamento e talvez remover essas colunas da análise."
      ]
    },
    {
      "cell_type": "code",
      "metadata": {
        "colab": {
          "base_uri": "https://localhost:8080/",
          "height": 550
        },
        "id": "3ATUaDIoTeb8",
        "outputId": "89d52784-f88a-4fa0-a61f-1ef31149e595"
      },
      "source": [
        "plt.figure(figsize=(16,6))\n",
        "sns.heatmap(data=X.corr(), annot=True)\n",
        "%matplotlib (line= 'inline')"
      ],
      "execution_count": null,
      "outputs": [
        {
          "output_type": "stream",
          "name": "stderr",
          "text": [
            "UsageError: unrecognized arguments: 'inline' )\n"
          ]
        },
        {
          "output_type": "display_data",
          "data": {
            "image/png": "[encoded data removed]",
            "text/plain": [
              "<Figure size 1152x432 with 2 Axes>"
            ]
          },
          "metadata": {
            "needs_background": "light"
          }
        }
      ]
    },
    {
      "cell_type": "markdown",
      "metadata": {
        "id": "GKvbPs8YgRAH"
      },
      "source": [
        "Dividindo a base de Treino e Teste e definindo a variáveis X e Y\n"
      ]
    },
    {
      "cell_type": "code",
      "metadata": {
        "id": "V4GSXpbtGWVp"
      },
      "source": [
        "Y = dataset_enconding['BAD'].values.tolist()"
      ],
      "execution_count": null,
      "outputs": []
    },
    {
      "cell_type": "code",
      "metadata": {
        "id": "joz_4EbZHXxR"
      },
      "source": [
        "X_train, X_test, Y_train, Y_test =  train_test_split(X,Y, test_size=0.3, stratify=Y, random_state=1)"
      ],
      "execution_count": null,
      "outputs": []
    },
    {
      "cell_type": "markdown",
      "metadata": {
        "id": "m17O--xyp_86"
      },
      "source": [
        "# 4. Construção de modelos de Machine Learning"
      ]
    },
    {
      "cell_type": "markdown",
      "metadata": {
        "id": "8Tg9AeQIHt9a"
      },
      "source": [
        "Os modelos a serem utilizados serão o Xgboost, RandomForest, ExtraTrees e Logistic Regression"
      ]
    },
    {
      "cell_type": "code",
      "metadata": {
        "id": "8yD_bcHKqECl"
      },
      "source": [
        "modelos = {'RandomForest': RandomForestClassifier(n_estimators=1000),\"Xgboost\":XGBClassifier(n_estimators=2000, learning_rate=0.01),'ExtraTrees': ExtraTreesClassifier(n_estimators=10), 'RegressaoLogistica': LogisticRegression(max_iter=10000)}"
      ],
      "execution_count": null,
      "outputs": []
    },
    {
      "cell_type": "code",
      "metadata": {
        "id": "RHh355QhKBuK",
        "colab": {
          "base_uri": "https://localhost:8080/"
        },
        "outputId": "e10d53ca-fd7f-4fcb-928a-e9d99124aef3"
      },
      "source": [
        "for nome_modelo, modelo in modelos.items():\n",
        "  #TREINAR\n",
        "  modelo.fit(X_train, Y_train)\n",
        "  print(modelo)\n",
        "  #Testar\n",
        "  previsao = modelo.predict(X_test)\n",
        "  #Avaliar\n",
        "  matriz_confusao = confusion_matrix(previsao, Y_test)\n",
        "  print(matriz_confusao)\n",
        "  report_classification = classification_report(previsao, Y_test)\n",
        "  print(report_classification)\n",
        "  print(\"-=\"*50)"
      ],
      "execution_count": null,
      "outputs": [
        {
          "output_type": "stream",
          "name": "stdout",
          "text": [
            "RandomForestClassifier(bootstrap=True, ccp_alpha=0.0, class_weight=None,\n",
            "                       criterion='gini', max_depth=None, max_features='auto',\n",
            "                       max_leaf_nodes=None, max_samples=None,\n",
            "                       min_impurity_decrease=0.0, min_impurity_split=None,\n",
            "                       min_samples_leaf=1, min_samples_split=2,\n",
            "                       min_weight_fraction_leaf=0.0, n_estimators=1000,\n",
            "                       n_jobs=None, oob_score=False, random_state=None,\n",
            "                       verbose=0, warm_start=False)\n",
            "[[8332 2065]\n",
            " [ 276  163]]\n",
            "              precision    recall  f1-score   support\n",
            "\n",
            "           0       0.97      0.80      0.88     10397\n",
            "           1       0.07      0.37      0.12       439\n",
            "\n",
            "    accuracy                           0.78     10836\n",
            "   macro avg       0.52      0.59      0.50     10836\n",
            "weighted avg       0.93      0.78      0.85     10836\n",
            "\n",
            "-=-=-=-=-=-=-=-=-=-=-=-=-=-=-=-=-=-=-=-=-=-=-=-=-=-=-=-=-=-=-=-=-=-=-=-=-=-=-=-=-=-=-=-=-=-=-=-=-=-=\n",
            "XGBClassifier(base_score=0.5, booster='gbtree', colsample_bylevel=1,\n",
            "              colsample_bynode=1, colsample_bytree=1, gamma=0,\n",
            "              learning_rate=0.01, max_delta_step=0, max_depth=3,\n",
            "              min_child_weight=1, missing=None, n_estimators=2000, n_jobs=1,\n",
            "              nthread=None, objective='binary:logistic', random_state=0,\n",
            "              reg_alpha=0, reg_lambda=1, scale_pos_weight=1, seed=None,\n",
            "              silent=None, subsample=1, verbosity=1)\n",
            "[[8556 2182]\n",
            " [  52   46]]\n",
            "              precision    recall  f1-score   support\n",
            "\n",
            "           0       0.99      0.80      0.88     10738\n",
            "           1       0.02      0.47      0.04        98\n",
            "\n",
            "    accuracy                           0.79     10836\n",
            "   macro avg       0.51      0.63      0.46     10836\n",
            "weighted avg       0.99      0.79      0.88     10836\n",
            "\n",
            "-=-=-=-=-=-=-=-=-=-=-=-=-=-=-=-=-=-=-=-=-=-=-=-=-=-=-=-=-=-=-=-=-=-=-=-=-=-=-=-=-=-=-=-=-=-=-=-=-=-=\n",
            "ExtraTreesClassifier(bootstrap=False, ccp_alpha=0.0, class_weight=None,\n",
            "                     criterion='gini', max_depth=None, max_features='auto',\n",
            "                     max_leaf_nodes=None, max_samples=None,\n",
            "                     min_impurity_decrease=0.0, min_impurity_split=None,\n",
            "                     min_samples_leaf=1, min_samples_split=2,\n",
            "                     min_weight_fraction_leaf=0.0, n_estimators=10, n_jobs=None,\n",
            "                     oob_score=False, random_state=None, verbose=0,\n",
            "                     warm_start=False)\n",
            "[[8055 1993]\n",
            " [ 553  235]]\n",
            "              precision    recall  f1-score   support\n",
            "\n",
            "           0       0.94      0.80      0.86     10048\n",
            "           1       0.11      0.30      0.16       788\n",
            "\n",
            "    accuracy                           0.77     10836\n",
            "   macro avg       0.52      0.55      0.51     10836\n",
            "weighted avg       0.88      0.77      0.81     10836\n",
            "\n",
            "-=-=-=-=-=-=-=-=-=-=-=-=-=-=-=-=-=-=-=-=-=-=-=-=-=-=-=-=-=-=-=-=-=-=-=-=-=-=-=-=-=-=-=-=-=-=-=-=-=-=\n",
            "LogisticRegression(C=1.0, class_weight=None, dual=False, fit_intercept=True,\n",
            "                   intercept_scaling=1, l1_ratio=None, max_iter=10000,\n",
            "                   multi_class='auto', n_jobs=None, penalty='l2',\n",
            "                   random_state=None, solver='lbfgs', tol=0.0001, verbose=0,\n",
            "                   warm_start=False)\n",
            "[[8599 2227]\n",
            " [   9    1]]\n",
            "              precision    recall  f1-score   support\n",
            "\n",
            "           0       1.00      0.79      0.88     10826\n",
            "           1       0.00      0.10      0.00        10\n",
            "\n",
            "    accuracy                           0.79     10836\n",
            "   macro avg       0.50      0.45      0.44     10836\n",
            "weighted avg       1.00      0.79      0.88     10836\n",
            "\n",
            "-=-=-=-=-=-=-=-=-=-=-=-=-=-=-=-=-=-=-=-=-=-=-=-=-=-=-=-=-=-=-=-=-=-=-=-=-=-=-=-=-=-=-=-=-=-=-=-=-=-=\n"
          ]
        }
      ]
    },
    {
      "cell_type": "markdown",
      "metadata": {
        "id": "sB9lbPKBqEZF"
      },
      "source": [
        "# 5. Avaliação de Resultados do Modelo"
      ]
    },
    {
      "cell_type": "markdown",
      "metadata": {
        "id": "SgsM02jLMn5d"
      },
      "source": [
        "Avaliandos os resultados do nosso modelo pude perceber que ele é muito bom para saber se um cliente é não inadimplente, mas para classificar inadimplência ele não foi nem um pouco efetivo com uma precisão baixissíma e com uma revocação abaixo de 50% nos três modelos. Pude perceber pelo support que o conjunto de dados está desbalanceado, então a quantidade de informações de clientes não inadimplentes é maior que o conjunto de dados de clientes inadimplentes.\n",
        "\n",
        "Sendo assim, eu irei remover aquelas features com correlação negativa. Features: __flagResidencialPhone__ e __areaCodeResidencialPhone__. Para verificar se há alguma melhora e também irei rebalancear a quantidade de amostras."
      ]
    },
    {
      "cell_type": "code",
      "metadata": {
        "id": "qPuEST3XqMbb"
      },
      "source": [
        "dataset_com_features_removidas = dataset_enconding.copy()"
      ],
      "execution_count": null,
      "outputs": []
    },
    {
      "cell_type": "code",
      "metadata": {
        "id": "dtsyI1plOQwB"
      },
      "source": [
        "dataset_com_features_removidas.drop(['flagResidencialPhone','areaCodeResidencialPhone'], axis=1, inplace=True)"
      ],
      "execution_count": null,
      "outputs": []
    },
    {
      "cell_type": "code",
      "metadata": {
        "id": "0YUDRyRyOe9K",
        "colab": {
          "base_uri": "https://localhost:8080/"
        },
        "outputId": "7e30537f-b7b5-46d1-dd03-ed75e7eae9ee"
      },
      "source": [
        "dataset_com_features_removidas.shape"
      ],
      "execution_count": null,
      "outputs": [
        {
          "output_type": "execute_result",
          "data": {
            "text/plain": [
              "(36120, 10)"
            ]
          },
          "metadata": {},
          "execution_count": 74
        }
      ]
    },
    {
      "cell_type": "code",
      "metadata": {
        "id": "FM2BpsGhO0D_"
      },
      "source": [
        "X = dataset_com_features_removidas.drop('BAD', axis=1)"
      ],
      "execution_count": null,
      "outputs": []
    },
    {
      "cell_type": "code",
      "metadata": {
        "id": "3jkD69q9Oxeq"
      },
      "source": [
        "Y = dataset_com_features_removidas['BAD'].values.tolist()"
      ],
      "execution_count": null,
      "outputs": []
    },
    {
      "cell_type": "markdown",
      "metadata": {
        "id": "DM2fRnD4Kx-Z"
      },
      "source": [
        "Após a remoção das features vou realizar o balanceamento dos dados com o __NearMiss__ e o __SMOTE__"
      ]
    },
    {
      "cell_type": "code",
      "metadata": {
        "id": "YSrP3FURLAe-",
        "colab": {
          "base_uri": "https://localhost:8080/"
        },
        "outputId": "e19e7d0b-0972-4897-8218-50cd7168522c"
      },
      "source": [
        "from imblearn.over_sampling import SMOTE\n",
        "from imblearn.under_sampling import NearMiss"
      ],
      "execution_count": null,
      "outputs": [
        {
          "output_type": "stream",
          "name": "stderr",
          "text": [
            "/usr/local/lib/python3.7/dist-packages/sklearn/externals/six.py:31: FutureWarning: The module is deprecated in version 0.21 and will be removed in version 0.23 since we've dropped support for Python 2.7. Please rely on the official version of six (https://pypi.org/project/six/).\n",
            "  \"(https://pypi.org/project/six/).\", FutureWarning)\n",
            "/usr/local/lib/python3.7/dist-packages/sklearn/utils/deprecation.py:144: FutureWarning: The sklearn.neighbors.base module is  deprecated in version 0.22 and will be removed in version 0.24. The corresponding classes / functions should instead be imported from sklearn.neighbors. Anything that cannot be imported from sklearn.neighbors is now part of the private API.\n",
            "  warnings.warn(message, FutureWarning)\n"
          ]
        }
      ]
    },
    {
      "cell_type": "code",
      "metadata": {
        "id": "peysx4sTLSk7"
      },
      "source": [
        "nearmiss = NearMiss()"
      ],
      "execution_count": null,
      "outputs": []
    },
    {
      "cell_type": "code",
      "metadata": {
        "id": "9kwUojyrLLBv",
        "colab": {
          "base_uri": "https://localhost:8080/"
        },
        "outputId": "1347be17-1e80-48e5-c24f-7547d103dc9e"
      },
      "source": [
        "X,Y = nearmiss.fit_sample(X,Y)"
      ],
      "execution_count": null,
      "outputs": [
        {
          "output_type": "stream",
          "name": "stderr",
          "text": [
            "/usr/local/lib/python3.7/dist-packages/sklearn/utils/deprecation.py:87: FutureWarning: Function safe_indexing is deprecated; safe_indexing is deprecated in version 0.22 and will be removed in version 0.24.\n",
            "  warnings.warn(msg, category=FutureWarning)\n",
            "/usr/local/lib/python3.7/dist-packages/sklearn/utils/deprecation.py:87: FutureWarning: Function safe_indexing is deprecated; safe_indexing is deprecated in version 0.22 and will be removed in version 0.24.\n",
            "  warnings.warn(msg, category=FutureWarning)\n",
            "/usr/local/lib/python3.7/dist-packages/sklearn/utils/deprecation.py:87: FutureWarning: Function safe_indexing is deprecated; safe_indexing is deprecated in version 0.22 and will be removed in version 0.24.\n",
            "  warnings.warn(msg, category=FutureWarning)\n"
          ]
        }
      ]
    },
    {
      "cell_type": "markdown",
      "metadata": {
        "id": "tVlyFpRnhRpE"
      },
      "source": [
        "Foram selecionadas 7.000 linhas para o support do modelo dividir em treino e teste"
      ]
    },
    {
      "cell_type": "code",
      "metadata": {
        "id": "EOijVTDLLloP",
        "colab": {
          "base_uri": "https://localhost:8080/",
          "height": 264
        },
        "outputId": "0ac40a3a-7509-4cbb-9b50-c65337b21ff4"
      },
      "source": [
        "ax = sns.countplot(x=Y)"
      ],
      "execution_count": null,
      "outputs": [
        {
          "output_type": "display_data",
          "data": {
            "image/png": "[encoded data removed]",
            "text/plain": [
              "<Figure size 432x288 with 1 Axes>"
            ]
          },
          "metadata": {
            "needs_background": "light"
          }
        }
      ]
    },
    {
      "cell_type": "code",
      "metadata": {
        "id": "wjxE7AdXLwcD"
      },
      "source": [
        "X_train, X_test, Y_train, Y_test = train_test_split(X, Y, random_state = 1, stratify=Y)"
      ],
      "execution_count": null,
      "outputs": []
    },
    {
      "cell_type": "markdown",
      "metadata": {
        "id": "eVNy4DM0lCcY"
      },
      "source": [
        "No caso eu obtive uma melhora significativa na precisão de clientes inadimplentes, principalmente para o modelo XGBoost, onde tive um f1-score melhor e uma acuracia próxima do que já tínhamos no começo."
      ]
    },
    {
      "cell_type": "code",
      "metadata": {
        "id": "BjSitGFFOot_",
        "colab": {
          "base_uri": "https://localhost:8080/"
        },
        "outputId": "63b49794-fc47-48fc-df6b-818f2415817f"
      },
      "source": [
        "for nome_modelo, modelo in modelos.items():\n",
        "  #TREINAR\n",
        "  modelo.fit(X_train, Y_train)\n",
        "  print(modelo)\n",
        "  #Testar\n",
        "  previsao = modelo.predict(X_test)\n",
        "  #Avaliar\n",
        "  matriz_confusao = confusion_matrix(previsao, Y_test)\n",
        "  print(matriz_confusao)\n",
        "  report_classification = classification_report(previsao, Y_test)\n",
        "  print(report_classification)\n",
        "  print(\"-=\"*50)"
      ],
      "execution_count": null,
      "outputs": [
        {
          "output_type": "stream",
          "name": "stdout",
          "text": [
            "RandomForestClassifier(bootstrap=True, ccp_alpha=0.0, class_weight=None,\n",
            "                       criterion='gini', max_depth=None, max_features='auto',\n",
            "                       max_leaf_nodes=None, max_samples=None,\n",
            "                       min_impurity_decrease=0.0, min_impurity_split=None,\n",
            "                       min_samples_leaf=1, min_samples_split=2,\n",
            "                       min_weight_fraction_leaf=0.0, n_estimators=1000,\n",
            "                       n_jobs=None, oob_score=False, random_state=None,\n",
            "                       verbose=0, warm_start=False)\n",
            "[[1383  721]\n",
            " [ 473 1136]]\n",
            "              precision    recall  f1-score   support\n",
            "\n",
            "           0       0.75      0.66      0.70      2104\n",
            "           1       0.61      0.71      0.66      1609\n",
            "\n",
            "    accuracy                           0.68      3713\n",
            "   macro avg       0.68      0.68      0.68      3713\n",
            "weighted avg       0.69      0.68      0.68      3713\n",
            "\n",
            "-=-=-=-=-=-=-=-=-=-=-=-=-=-=-=-=-=-=-=-=-=-=-=-=-=-=-=-=-=-=-=-=-=-=-=-=-=-=-=-=-=-=-=-=-=-=-=-=-=-=\n",
            "XGBClassifier(base_score=0.5, booster='gbtree', colsample_bylevel=1,\n",
            "              colsample_bynode=1, colsample_bytree=1, gamma=0,\n",
            "              learning_rate=0.01, max_delta_step=0, max_depth=3,\n",
            "              min_child_weight=1, missing=None, n_estimators=2000, n_jobs=1,\n",
            "              nthread=None, objective='binary:logistic', random_state=0,\n",
            "              reg_alpha=0, reg_lambda=1, scale_pos_weight=1, seed=None,\n",
            "              silent=None, subsample=1, verbosity=1)\n",
            "[[1584  778]\n",
            " [ 272 1079]]\n",
            "              precision    recall  f1-score   support\n",
            "\n",
            "           0       0.85      0.67      0.75      2362\n",
            "           1       0.58      0.80      0.67      1351\n",
            "\n",
            "    accuracy                           0.72      3713\n",
            "   macro avg       0.72      0.73      0.71      3713\n",
            "weighted avg       0.75      0.72      0.72      3713\n",
            "\n",
            "-=-=-=-=-=-=-=-=-=-=-=-=-=-=-=-=-=-=-=-=-=-=-=-=-=-=-=-=-=-=-=-=-=-=-=-=-=-=-=-=-=-=-=-=-=-=-=-=-=-=\n",
            "ExtraTreesClassifier(bootstrap=False, ccp_alpha=0.0, class_weight=None,\n",
            "                     criterion='gini', max_depth=None, max_features='auto',\n",
            "                     max_leaf_nodes=None, max_samples=None,\n",
            "                     min_impurity_decrease=0.0, min_impurity_split=None,\n",
            "                     min_samples_leaf=1, min_samples_split=2,\n",
            "                     min_weight_fraction_leaf=0.0, n_estimators=10, n_jobs=None,\n",
            "                     oob_score=False, random_state=None, verbose=0,\n",
            "                     warm_start=False)\n",
            "[[1348  777]\n",
            " [ 508 1080]]\n",
            "              precision    recall  f1-score   support\n",
            "\n",
            "           0       0.73      0.63      0.68      2125\n",
            "           1       0.58      0.68      0.63      1588\n",
            "\n",
            "    accuracy                           0.65      3713\n",
            "   macro avg       0.65      0.66      0.65      3713\n",
            "weighted avg       0.66      0.65      0.66      3713\n",
            "\n",
            "-=-=-=-=-=-=-=-=-=-=-=-=-=-=-=-=-=-=-=-=-=-=-=-=-=-=-=-=-=-=-=-=-=-=-=-=-=-=-=-=-=-=-=-=-=-=-=-=-=-=\n",
            "LogisticRegression(C=1.0, class_weight=None, dual=False, fit_intercept=True,\n",
            "                   intercept_scaling=1, l1_ratio=None, max_iter=10000,\n",
            "                   multi_class='auto', n_jobs=None, penalty='l2',\n",
            "                   random_state=None, solver='lbfgs', tol=0.0001, verbose=0,\n",
            "                   warm_start=False)\n",
            "[[1446  808]\n",
            " [ 410 1049]]\n",
            "              precision    recall  f1-score   support\n",
            "\n",
            "           0       0.78      0.64      0.70      2254\n",
            "           1       0.56      0.72      0.63      1459\n",
            "\n",
            "    accuracy                           0.67      3713\n",
            "   macro avg       0.67      0.68      0.67      3713\n",
            "weighted avg       0.69      0.67      0.68      3713\n",
            "\n",
            "-=-=-=-=-=-=-=-=-=-=-=-=-=-=-=-=-=-=-=-=-=-=-=-=-=-=-=-=-=-=-=-=-=-=-=-=-=-=-=-=-=-=-=-=-=-=-=-=-=-=\n"
          ]
        }
      ]
    },
    {
      "cell_type": "markdown",
      "metadata": {
        "id": "jJzzZSarpmnW"
      },
      "source": [
        "Exportando o modelo para formato .dat utilizando a biblioteca Pickle"
      ]
    },
    {
      "cell_type": "code",
      "metadata": {
        "id": "4uUH58LZZStY"
      },
      "source": [
        "import pickle\n",
        "pickle.dump(modelos['Xgboost'], open(\"inadimplencia.pickle.dat\", \"wb\"))"
      ],
      "execution_count": null,
      "outputs": []
    },
    {
      "cell_type": "markdown",
      "metadata": {
        "id": "Vg6X1fHjqAYz"
      },
      "source": [
        "Carregando o modelo exportado"
      ]
    },
    {
      "cell_type": "code",
      "metadata": {
        "id": "TPZA6BU2aG2w"
      },
      "source": [
        "loaded_model = pickle.load(open(\"inadimplencia.pickle.dat\", \"rb\"))"
      ],
      "execution_count": null,
      "outputs": []
    },
    {
      "cell_type": "markdown",
      "metadata": {
        "id": "fWvME8J9qHZU"
      },
      "source": [
        "### Balanceando os dados com SMOTE"
      ]
    },
    {
      "cell_type": "code",
      "metadata": {
        "id": "ErY7XuJnSrMl",
        "colab": {
          "base_uri": "https://localhost:8080/"
        },
        "outputId": "2732578a-733d-4cf3-db75-e1f9b0570bd6"
      },
      "source": [
        "X = dataset_com_features_removidas.drop('BAD', axis=1)\n",
        "Y = dataset_com_features_removidas['BAD'].values.tolist()\n",
        "#Quantidade de dados por classe\n",
        "\n",
        "np.bincount(Y)"
      ],
      "execution_count": null,
      "outputs": [
        {
          "output_type": "execute_result",
          "data": {
            "text/plain": [
              "array([28695,  7425])"
            ]
          },
          "metadata": {},
          "execution_count": 85
        }
      ]
    },
    {
      "cell_type": "code",
      "metadata": {
        "id": "sJK34Vp9SwXa",
        "colab": {
          "base_uri": "https://localhost:8080/"
        },
        "outputId": "6fca2e18-b6af-4837-a10e-d7be348fdcfe"
      },
      "source": [
        "#SMOTE\n",
        "smt = SMOTE()\n",
        "X,Y = smt.fit_sample(X,Y)"
      ],
      "execution_count": null,
      "outputs": [
        {
          "output_type": "stream",
          "name": "stderr",
          "text": [
            "/usr/local/lib/python3.7/dist-packages/sklearn/utils/deprecation.py:87: FutureWarning: Function safe_indexing is deprecated; safe_indexing is deprecated in version 0.22 and will be removed in version 0.24.\n",
            "  warnings.warn(msg, category=FutureWarning)\n"
          ]
        }
      ]
    },
    {
      "cell_type": "code",
      "metadata": {
        "id": "ds0tAi66TpXj",
        "colab": {
          "base_uri": "https://localhost:8080/"
        },
        "outputId": "601f36d1-7ee2-4dff-9d5e-90250fc2227c"
      },
      "source": [
        "np.bincount(Y)"
      ],
      "execution_count": null,
      "outputs": [
        {
          "output_type": "execute_result",
          "data": {
            "text/plain": [
              "array([28695, 28695])"
            ]
          },
          "metadata": {},
          "execution_count": 87
        }
      ]
    },
    {
      "cell_type": "markdown",
      "metadata": {
        "id": "RhXeajYoiO78"
      },
      "source": [
        "O __SMOTE__ ele clonou os dados de forma aleatória para complementar os dados de clientes inadimplentes para se igualar com a quantidade de cleintes não inadimplentes"
      ]
    },
    {
      "cell_type": "code",
      "metadata": {
        "id": "Es86qeBtTxHj",
        "colab": {
          "base_uri": "https://localhost:8080/",
          "height": 267
        },
        "outputId": "86984e4c-ee61-4b22-bc32-8a1de1f76f80"
      },
      "source": [
        "ax = sns.countplot(x=Y)"
      ],
      "execution_count": null,
      "outputs": [
        {
          "output_type": "display_data",
          "data": {
            "image/png": "[encoded data removed]",
            "text/plain": [
              "<Figure size 432x288 with 1 Axes>"
            ]
          },
          "metadata": {
            "needs_background": "light"
          }
        }
      ]
    },
    {
      "cell_type": "code",
      "metadata": {
        "id": "tcuS8--0T19K"
      },
      "source": [
        "X_train, X_test, Y_train, Y_test = train_test_split(X, Y, random_state = 1, stratify=Y)"
      ],
      "execution_count": null,
      "outputs": []
    },
    {
      "cell_type": "markdown",
      "metadata": {
        "id": "rsKXzgaxg0uN"
      },
      "source": [
        "No modelo com SMOTE pode ter um problema de Overfitting, uma vez que ele replica de forma aleatória os dados da variável minoritária. Sendo assim, o modelo pode se ajustar demais aos dados do dataset e não ir tão bem em caso reais e fora do dataset."
      ]
    },
    {
      "cell_type": "code",
      "metadata": {
        "id": "o4zS5rKPT_vE",
        "colab": {
          "base_uri": "https://localhost:8080/"
        },
        "outputId": "1ff49385-534f-48a4-b3f8-75f389e05603"
      },
      "source": [
        "for nome_modelo, modelo in modelos.items():\n",
        "  #TREINAR\n",
        "  modelo.fit(X_train, Y_train)\n",
        "  print(modelo)\n",
        "  #Testar\n",
        "  previsao = modelo.predict(X_test)\n",
        "  #Avaliar\n",
        "  matriz_confusao = confusion_matrix(previsao, Y_test)\n",
        "  print(matriz_confusao)\n",
        "  report_classification = classification_report(previsao, Y_test)\n",
        "  print(report_classification)\n",
        "  print(\"-=\"*50)"
      ],
      "execution_count": null,
      "outputs": [
        {
          "output_type": "stream",
          "name": "stdout",
          "text": [
            "RandomForestClassifier(bootstrap=True, ccp_alpha=0.0, class_weight=None,\n",
            "                       criterion='gini', max_depth=None, max_features='auto',\n",
            "                       max_leaf_nodes=None, max_samples=None,\n",
            "                       min_impurity_decrease=0.0, min_impurity_split=None,\n",
            "                       min_samples_leaf=1, min_samples_split=2,\n",
            "                       min_weight_fraction_leaf=0.0, n_estimators=1000,\n",
            "                       n_jobs=None, oob_score=False, random_state=None,\n",
            "                       verbose=0, warm_start=False)\n",
            "[[6770 1603]\n",
            " [ 404 5571]]\n",
            "              precision    recall  f1-score   support\n",
            "\n",
            "           0       0.94      0.81      0.87      8373\n",
            "           1       0.78      0.93      0.85      5975\n",
            "\n",
            "    accuracy                           0.86     14348\n",
            "   macro avg       0.86      0.87      0.86     14348\n",
            "weighted avg       0.87      0.86      0.86     14348\n",
            "\n",
            "-=-=-=-=-=-=-=-=-=-=-=-=-=-=-=-=-=-=-=-=-=-=-=-=-=-=-=-=-=-=-=-=-=-=-=-=-=-=-=-=-=-=-=-=-=-=-=-=-=-=\n",
            "XGBClassifier(base_score=0.5, booster='gbtree', colsample_bylevel=1,\n",
            "              colsample_bynode=1, colsample_bytree=1, gamma=0,\n",
            "              learning_rate=0.01, max_delta_step=0, max_depth=3,\n",
            "              min_child_weight=1, missing=None, n_estimators=2000, n_jobs=1,\n",
            "              nthread=None, objective='binary:logistic', random_state=0,\n",
            "              reg_alpha=0, reg_lambda=1, scale_pos_weight=1, seed=None,\n",
            "              silent=None, subsample=1, verbosity=1)\n",
            "[[7147 1936]\n",
            " [  27 5238]]\n",
            "              precision    recall  f1-score   support\n",
            "\n",
            "           0       1.00      0.79      0.88      9083\n",
            "           1       0.73      0.99      0.84      5265\n",
            "\n",
            "    accuracy                           0.86     14348\n",
            "   macro avg       0.86      0.89      0.86     14348\n",
            "weighted avg       0.90      0.86      0.87     14348\n",
            "\n",
            "-=-=-=-=-=-=-=-=-=-=-=-=-=-=-=-=-=-=-=-=-=-=-=-=-=-=-=-=-=-=-=-=-=-=-=-=-=-=-=-=-=-=-=-=-=-=-=-=-=-=\n",
            "ExtraTreesClassifier(bootstrap=False, ccp_alpha=0.0, class_weight=None,\n",
            "                     criterion='gini', max_depth=None, max_features='auto',\n",
            "                     max_leaf_nodes=None, max_samples=None,\n",
            "                     min_impurity_decrease=0.0, min_impurity_split=None,\n",
            "                     min_samples_leaf=1, min_samples_split=2,\n",
            "                     min_weight_fraction_leaf=0.0, n_estimators=10, n_jobs=None,\n",
            "                     oob_score=False, random_state=None, verbose=0,\n",
            "                     warm_start=False)\n",
            "[[6588 1657]\n",
            " [ 586 5517]]\n",
            "              precision    recall  f1-score   support\n",
            "\n",
            "           0       0.92      0.80      0.85      8245\n",
            "           1       0.77      0.90      0.83      6103\n",
            "\n",
            "    accuracy                           0.84     14348\n",
            "   macro avg       0.84      0.85      0.84     14348\n",
            "weighted avg       0.85      0.84      0.84     14348\n",
            "\n",
            "-=-=-=-=-=-=-=-=-=-=-=-=-=-=-=-=-=-=-=-=-=-=-=-=-=-=-=-=-=-=-=-=-=-=-=-=-=-=-=-=-=-=-=-=-=-=-=-=-=-=\n",
            "LogisticRegression(C=1.0, class_weight=None, dual=False, fit_intercept=True,\n",
            "                   intercept_scaling=1, l1_ratio=None, max_iter=10000,\n",
            "                   multi_class='auto', n_jobs=None, penalty='l2',\n",
            "                   random_state=None, solver='lbfgs', tol=0.0001, verbose=0,\n",
            "                   warm_start=False)\n",
            "[[3959 2490]\n",
            " [3215 4684]]\n",
            "              precision    recall  f1-score   support\n",
            "\n",
            "           0       0.55      0.61      0.58      6449\n",
            "           1       0.65      0.59      0.62      7899\n",
            "\n",
            "    accuracy                           0.60     14348\n",
            "   macro avg       0.60      0.60      0.60     14348\n",
            "weighted avg       0.61      0.60      0.60     14348\n",
            "\n",
            "-=-=-=-=-=-=-=-=-=-=-=-=-=-=-=-=-=-=-=-=-=-=-=-=-=-=-=-=-=-=-=-=-=-=-=-=-=-=-=-=-=-=-=-=-=-=-=-=-=-=\n"
          ]
        }
      ]
    },
    {
      "cell_type": "markdown",
      "metadata": {
        "id": "u1ALCDZoPIrX"
      },
      "source": [
        "Exportando o modelo"
      ]
    },
    {
      "cell_type": "code",
      "metadata": {
        "id": "bBu4Y_T_c2aZ"
      },
      "source": [
        "pickle.dump(modelos['Xgboost'], open(\"InadimplenciaSMOTE.pickle.dat\", \"wb\"))"
      ],
      "execution_count": null,
      "outputs": []
    },
    {
      "cell_type": "markdown",
      "metadata": {
        "id": "1Bv3iEvZPGLC"
      },
      "source": [
        "Carregando o modelo Exportado"
      ]
    },
    {
      "cell_type": "code",
      "metadata": {
        "id": "A7VRp1vvdB9V"
      },
      "source": [
        "loaded_model2 = pickle.load(open(\"InadimplenciaSMOTE.pickle.dat\", \"rb\"))"
      ],
      "execution_count": null,
      "outputs": []
    }
  ]
}